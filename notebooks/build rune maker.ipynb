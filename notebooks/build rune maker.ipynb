{
 "cells": [
  {
   "cell_type": "code",
   "execution_count": 1,
   "metadata": {},
   "outputs": [],
   "source": [
    "# activates python modules auto reload\n",
    "%load_ext autoreload\n",
    "%autoreload 2\n",
    "\n",
    "import configparser\n",
    "\n",
    "import sys\n",
    "sys.path.append('..')\n",
    "\n",
    "from nodie.spells import Spell\n",
    "from nodie.items import Item, Equipment, Food\n",
    "from nodie.character import Character, Vocation\n",
    "from nodie.regeneration import Regeneration\n",
    "from nodie.macros import RuneSpellMacro, WasteSpellMacro, EquipmentMacro, FoodMacro, RuneMaker"
   ]
  },
  {
   "cell_type": "code",
   "execution_count": 2,
   "metadata": {},
   "outputs": [],
   "source": [
    "V = Vocation.fromjson('vocations.json')\n",
    "#for v in V: print(v)"
   ]
  },
  {
   "cell_type": "code",
   "execution_count": 8,
   "metadata": {},
   "outputs": [
    {
     "ename": "FileNotFoundError",
     "evalue": "[Errno 2] No such file or directory: '..data/items/equipment.json'",
     "output_type": "error",
     "traceback": [
      "\u001b[1;31m---------------------------------------------------------------------------\u001b[0m",
      "\u001b[1;31mFileNotFoundError\u001b[0m                         Traceback (most recent call last)",
      "\u001b[1;32m<ipython-input-8-be81ca393466>\u001b[0m in \u001b[0;36m<module>\u001b[1;34m\u001b[0m\n\u001b[1;32m----> 1\u001b[1;33m \u001b[0mE\u001b[0m \u001b[1;33m=\u001b[0m \u001b[0mEquipment\u001b[0m\u001b[1;33m.\u001b[0m\u001b[0mfromjson\u001b[0m\u001b[1;33m(\u001b[0m\u001b[1;34mr'..data/items/equipment.json'\u001b[0m\u001b[1;33m)\u001b[0m\u001b[1;33m\u001b[0m\u001b[1;33m\u001b[0m\u001b[0m\n\u001b[0m\u001b[0;32m      2\u001b[0m \u001b[1;31m#for e in E: print(e)\u001b[0m\u001b[1;33m\u001b[0m\u001b[1;33m\u001b[0m\u001b[1;33m\u001b[0m\u001b[0m\n",
      "\u001b[1;32m~\\OneDrive\\Área de Trabalho\\my_repositories\\tibia_no_die\\nodie\\resources.py\u001b[0m in \u001b[0;36mfromjson\u001b[1;34m(cls, file)\u001b[0m\n\u001b[0;32m     29\u001b[0m     \u001b[1;33m@\u001b[0m\u001b[0mclassmethod\u001b[0m\u001b[1;33m\u001b[0m\u001b[1;33m\u001b[0m\u001b[0m\n\u001b[0;32m     30\u001b[0m     \u001b[1;32mdef\u001b[0m \u001b[0mfromjson\u001b[0m\u001b[1;33m(\u001b[0m\u001b[0mcls\u001b[0m\u001b[1;33m,\u001b[0m \u001b[0mfile\u001b[0m\u001b[1;33m)\u001b[0m\u001b[1;33m:\u001b[0m\u001b[1;33m\u001b[0m\u001b[1;33m\u001b[0m\u001b[0m\n\u001b[1;32m---> 31\u001b[1;33m         \u001b[1;32mwith\u001b[0m \u001b[0mopen\u001b[0m\u001b[1;33m(\u001b[0m\u001b[0mfile\u001b[0m\u001b[1;33m)\u001b[0m \u001b[1;32mas\u001b[0m \u001b[0mf\u001b[0m\u001b[1;33m:\u001b[0m\u001b[1;33m\u001b[0m\u001b[1;33m\u001b[0m\u001b[0m\n\u001b[0m\u001b[0;32m     32\u001b[0m             \u001b[0mdic\u001b[0m \u001b[1;33m=\u001b[0m \u001b[0mjson\u001b[0m\u001b[1;33m.\u001b[0m\u001b[0mload\u001b[0m\u001b[1;33m(\u001b[0m\u001b[0mf\u001b[0m\u001b[1;33m)\u001b[0m\u001b[1;33m\u001b[0m\u001b[1;33m\u001b[0m\u001b[0m\n\u001b[0;32m     33\u001b[0m \u001b[1;33m\u001b[0m\u001b[0m\n",
      "\u001b[1;31mFileNotFoundError\u001b[0m: [Errno 2] No such file or directory: '..data/items/equipment.json'"
     ]
    }
   ],
   "source": [
    "E = Equipment.fromjson(r'..data/items/equipment.json')\n",
    "#for e in E: print(e)"
   ]
  },
  {
   "cell_type": "code",
   "execution_count": null,
   "metadata": {},
   "outputs": [],
   "source": [
    "F = Food.fromjson('food.json')\n",
    "#for f in F: print(f)"
   ]
  },
  {
   "cell_type": "code",
   "execution_count": null,
   "metadata": {},
   "outputs": [],
   "source": [
    "foods = Food.fromjson('food.json')\n",
    "equipments = Equipment.fromjson('equipment.json')\n",
    "spells = Spell.fromjson('spells.json')\n",
    "vocations = Vocation.fromjson('vocations.json')\n",
    "for v in vocations: v.set_spells(spells)"
   ]
  },
  {
   "cell_type": "code",
   "execution_count": null,
   "metadata": {},
   "outputs": [],
   "source": [
    "cfg = configparser.ConfigParser()\n",
    "cfg.read('config.ini')\n",
    "\n",
    "\n",
    "character_name = cfg['Character']['name']\n",
    "vocation = cfg['Character']['vocation']\n",
    "\n",
    "vocation = [v for v in vocations if v.name == vocation][0]\n",
    "char = Character(character_name, vocation)\n",
    "\n",
    "\n",
    "ring = cfg['Rune Maker']['ring']\n",
    "boots = cfg['Rune Maker']['boots']\n",
    "food = cfg['Rune Maker']['food']\n",
    "rune_spell = cfg['Rune Maker']['rune_spell']\n",
    "waste_spell = cfg['Rune Maker']['waste_spell']\n",
    "\n",
    "ring_keys = cfg['Rune Maker']['ring_keys'].replace(' ', '').split(',')\n",
    "boots_keys = cfg['Rune Maker']['boots_keys'].replace(' ', '').split(',')\n",
    "food_keys = cfg['Rune Maker']['food_keys'].replace(' ', '').split(',')\n",
    "rune_spell_keys = cfg['Rune Maker']['rune_spell_keys'].replace(' ', '').split(',')\n",
    "waste_spell_keys = cfg['Rune Maker']['waste_spell_keys'].replace(' ', '').split(',')\n",
    "\n",
    "ring = [r for r in equipments if r.name == ring][0]\n",
    "boots = [b for b in equipments if b.name == boots][0]\n",
    "food = [f for f in foods if f.name == food][0]\n",
    "rune_spell = [r for r in spells if r.name == rune_spell][0]\n",
    "waste_spell = [w for w in spells if w.name == waste_spell][0]"
   ]
  },
  {
   "cell_type": "code",
   "execution_count": null,
   "metadata": {},
   "outputs": [],
   "source": [
    "print(ring.name)\n",
    "print(boots.name)\n",
    "print(food.name)\n",
    "print(rune_spell.name)\n",
    "print(waste_spell.name)"
   ]
  },
  {
   "cell_type": "code",
   "execution_count": null,
   "metadata": {},
   "outputs": [],
   "source": [
    "runemaker = RuneMaker(vocation, ring, boots, food, rune_spell, waste_spell)"
   ]
  },
  {
   "cell_type": "code",
   "execution_count": null,
   "metadata": {},
   "outputs": [],
   "source": [
    "runemaker.activate_macros()"
   ]
  },
  {
   "cell_type": "code",
   "execution_count": 25,
   "metadata": {},
   "outputs": [
    {
     "data": {
      "text/plain": [
       "['C:\\\\Users\\\\sergi\\\\OneDrive\\\\Área de Trabalho\\\\my_repositories\\\\tibia_no_die\\\\hotkeys.ini']"
      ]
     },
     "execution_count": 25,
     "metadata": {},
     "output_type": "execute_result"
    }
   ],
   "source": [
    "cfgKeys = configparser.ConfigParser()\n",
    "cfgKeys.read(os.path.join(os.path.realpath('..'), 'hotkeys.ini'))"
   ]
  },
  {
   "cell_type": "code",
   "execution_count": 12,
   "metadata": {},
   "outputs": [
    {
     "ename": "NameError",
     "evalue": "name '__file__' is not defined",
     "output_type": "error",
     "traceback": [
      "\u001b[1;31m---------------------------------------------------------------------------\u001b[0m",
      "\u001b[1;31mNameError\u001b[0m                                 Traceback (most recent call last)",
      "\u001b[1;32m<ipython-input-12-23dc674b4272>\u001b[0m in \u001b[0;36m<module>\u001b[1;34m\u001b[0m\n\u001b[0;32m      1\u001b[0m \u001b[1;32mimport\u001b[0m \u001b[0mos\u001b[0m\u001b[1;33m\u001b[0m\u001b[1;33m\u001b[0m\u001b[0m\n\u001b[1;32m----> 2\u001b[1;33m \u001b[0mdirname\u001b[0m \u001b[1;33m=\u001b[0m \u001b[0mos\u001b[0m\u001b[1;33m.\u001b[0m\u001b[0mpath\u001b[0m\u001b[1;33m.\u001b[0m\u001b[0mdirname\u001b[0m\u001b[1;33m(\u001b[0m\u001b[0m__file__\u001b[0m\u001b[1;33m)\u001b[0m\u001b[1;33m\u001b[0m\u001b[1;33m\u001b[0m\u001b[0m\n\u001b[0m\u001b[0;32m      3\u001b[0m \u001b[0mprint\u001b[0m\u001b[1;33m(\u001b[0m\u001b[0mdirname\u001b[0m\u001b[1;33m)\u001b[0m\u001b[1;33m\u001b[0m\u001b[1;33m\u001b[0m\u001b[0m\n",
      "\u001b[1;31mNameError\u001b[0m: name '__file__' is not defined"
     ]
    }
   ],
   "source": [
    "import os\n",
    "dirname = os.path.dirname(__file__)\n",
    "print(dirname)"
   ]
  },
  {
   "cell_type": "code",
   "execution_count": 13,
   "metadata": {},
   "outputs": [
    {
     "data": {
      "text/plain": [
       "'C:\\\\Users\\\\sergi\\\\OneDrive\\\\Área de Trabalho\\\\my_repositories\\\\tibia_no_die'"
      ]
     },
     "execution_count": 13,
     "metadata": {},
     "output_type": "execute_result"
    }
   ],
   "source": [
    "os.path.realpath('..')"
   ]
  },
  {
   "cell_type": "code",
   "execution_count": 14,
   "metadata": {},
   "outputs": [
    {
     "data": {
      "text/plain": [
       "[]"
      ]
     },
     "execution_count": 14,
     "metadata": {},
     "output_type": "execute_result"
    }
   ],
   "source": [
    "        cfgKeys = configparser.ConfigParser()\n",
    "        cfgKeys.read(os.path.realpath('..hotkeys.ini'))"
   ]
  },
  {
   "cell_type": "code",
   "execution_count": 24,
   "metadata": {},
   "outputs": [
    {
     "data": {
      "text/plain": [
       "'C:\\\\Users\\\\sergi\\\\OneDrive\\\\Área de Trabalho\\\\my_repositories\\\\tibia_no_die\\\\hotkeys.ini'"
      ]
     },
     "execution_count": 24,
     "metadata": {},
     "output_type": "execute_result"
    }
   ],
   "source": [
    "os.path.join(os.path.realpath('..'), 'hotkeys.ini')"
   ]
  },
  {
   "cell_type": "code",
   "execution_count": 18,
   "metadata": {},
   "outputs": [
    {
     "name": "stdout",
     "output_type": "stream",
     "text": [
      "C:\\Users\\sergi\\OneDrive\\Área de Trabalho\\my_repositories\\tibia_no_die\\notebooks\n"
     ]
    }
   ],
   "source": [
    "print(os.getcwd())"
   ]
  },
  {
   "cell_type": "code",
   "execution_count": null,
   "metadata": {},
   "outputs": [],
   "source": []
  }
 ],
 "metadata": {
  "kernelspec": {
   "display_name": "Python 3",
   "language": "python",
   "name": "python3"
  },
  "language_info": {
   "codemirror_mode": {
    "name": "ipython",
    "version": 3
   },
   "file_extension": ".py",
   "mimetype": "text/x-python",
   "name": "python",
   "nbconvert_exporter": "python",
   "pygments_lexer": "ipython3",
   "version": "3.8.3"
  }
 },
 "nbformat": 4,
 "nbformat_minor": 4
}
