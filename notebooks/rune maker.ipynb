{
 "cells": [
  {
   "cell_type": "code",
   "execution_count": 1,
   "metadata": {},
   "outputs": [],
   "source": [
    "# activates python modules auto reload\n",
    "%load_ext autoreload\n",
    "%autoreload 2\n",
    "\n",
    "import configparser\n",
    "\n",
    "import sys\n",
    "sys.path.append('..')\n",
    "\n",
    "from nodie.spells import Spell\n",
    "from nodie.items import Item, Equipment, Food\n",
    "from nodie.character import Character, Vocation\n",
    "from nodie.regeneration import Regeneration\n",
    "from nodie.macros import RuneSpellMacro, WasteSpellMacro, EquipmentMacro, FoodMacro, RuneMaker"
   ]
  },
  {
   "cell_type": "code",
   "execution_count": 2,
   "metadata": {},
   "outputs": [],
   "source": [
    "V = Vocation.fromjson('vocations.json')\n",
    "#for v in V: print(v)"
   ]
  },
  {
   "cell_type": "code",
   "execution_count": 3,
   "metadata": {},
   "outputs": [],
   "source": [
    "E = Equipment.fromjson('equipment.json')\n",
    "#for e in E: print(e)"
   ]
  },
  {
   "cell_type": "code",
   "execution_count": 4,
   "metadata": {},
   "outputs": [],
   "source": [
    "F = Food.fromjson('food.json')\n",
    "#for f in F: print(f)"
   ]
  },
  {
   "cell_type": "code",
   "execution_count": 5,
   "metadata": {},
   "outputs": [],
   "source": [
    "foods = Food.fromjson('food.json')\n",
    "equipments = Equipment.fromjson('equipment.json')\n",
    "spells = Spell.fromjson('spells.json')\n",
    "vocations = Vocation.fromjson('vocations.json')\n",
    "for v in vocations: v.set_spells(spells)"
   ]
  },
  {
   "cell_type": "code",
   "execution_count": 6,
   "metadata": {},
   "outputs": [],
   "source": [
    "cfg = configparser.ConfigParser()\n",
    "cfg.read('config.ini')\n",
    "\n",
    "\n",
    "character_name = cfg['Character']['name']\n",
    "vocation = cfg['Character']['vocation']\n",
    "\n",
    "vocation = [v for v in vocations if v.name == vocation][0]\n",
    "char = Character(character_name, vocation)\n",
    "\n",
    "\n",
    "ring = cfg['Rune Maker']['ring']\n",
    "boots = cfg['Rune Maker']['boots']\n",
    "food = cfg['Rune Maker']['food']\n",
    "rune_spell = cfg['Rune Maker']['rune_spell']\n",
    "waste_spell = cfg['Rune Maker']['waste_spell']\n",
    "\n",
    "ring = [r for r in equipments if r.name.lower() == ring.lower()][0]\n",
    "boots = [b for b in equipments if b.name.lower() == boots.lower()][0]\n",
    "food = [f for f in foods if f.name.lower() == food.lower()][0]\n",
    "rune_spell = [r for r in spells if r.name.lower() == rune_spell.lower()][0]\n",
    "waste_spell = [w for w in spells if w.name.lower() == waste_spell.lower()][0]\n",
    "\n",
    "ring.read_cfg_keys()\n",
    "boots.read_cfg_keys()\n",
    "food.read_cfg_keys()\n",
    "rune_spell.read_cfg_keys()\n",
    "waste_spell.read_cfg_keys()"
   ]
  },
  {
   "cell_type": "code",
   "execution_count": 7,
   "metadata": {},
   "outputs": [
    {
     "name": "stdout",
     "output_type": "stream",
     "text": [
      "['a', 'b']\n",
      "['c', 'd']\n",
      "['e', 'f']\n",
      "['g', 'h']\n",
      "['2', '3']\n"
     ]
    }
   ],
   "source": [
    "print(ring.keys)\n",
    "print(boots.keys)\n",
    "print(food.keys)\n",
    "print(rune_spell.keys)\n",
    "print(waste_spell.keys)"
   ]
  },
  {
   "cell_type": "code",
   "execution_count": 8,
   "metadata": {},
   "outputs": [
    {
     "data": {
      "text/plain": [
       "list"
      ]
     },
     "execution_count": 8,
     "metadata": {},
     "output_type": "execute_result"
    }
   ],
   "source": [
    "type(ring.keys)"
   ]
  },
  {
   "cell_type": "code",
   "execution_count": 9,
   "metadata": {},
   "outputs": [],
   "source": [
    "runemaker = RuneMaker(vocation, ring, boots, food, rune_spell, waste_spell)"
   ]
  },
  {
   "cell_type": "code",
   "execution_count": 10,
   "metadata": {},
   "outputs": [],
   "source": [
    "#runemaker.activate_macros()"
   ]
  },
  {
   "cell_type": "code",
   "execution_count": 11,
   "metadata": {},
   "outputs": [],
   "source": [
    "from time import sleep"
   ]
  },
  {
   "cell_type": "code",
   "execution_count": 12,
   "metadata": {},
   "outputs": [],
   "source": [
    "for i in range(10): \n",
    "    ring.use()\n",
    "    sleep(0.15)"
   ]
  },
  {
   "cell_type": "code",
   "execution_count": 13,
   "metadata": {},
   "outputs": [],
   "source": [
    "for i in range(10): \n",
    "    boots.use()\n",
    "    sleep(0.15)"
   ]
  },
  {
   "cell_type": "code",
   "execution_count": 14,
   "metadata": {},
   "outputs": [],
   "source": [
    "for i in range(10): \n",
    "    food.use()\n",
    "    sleep(0.15)"
   ]
  },
  {
   "cell_type": "code",
   "execution_count": 15,
   "metadata": {},
   "outputs": [],
   "source": [
    "for i in range(10): \n",
    "    rune_spell.use()\n",
    "    sleep(0.15)"
   ]
  },
  {
   "cell_type": "code",
   "execution_count": 16,
   "metadata": {},
   "outputs": [],
   "source": [
    "for i in range(10): \n",
    "    waste_spell.use()\n",
    "    sleep(0.15)"
   ]
  },
  {
   "cell_type": "code",
   "execution_count": 18,
   "metadata": {},
   "outputs": [
    {
     "name": "stdout",
     "output_type": "stream",
     "text": [
      "[<nodie.spells.Spell object at 0x000001B8235DF0D0>, <nodie.spells.Spell object at 0x000001B8235DF070>, <nodie.spells.Spell object at 0x000001B8235DF040>, <nodie.spells.Spell object at 0x000001B8235DF100>, <nodie.spells.Spell object at 0x000001B8235DF430>, <nodie.spells.Spell object at 0x000001B8235DF460>, <nodie.spells.Spell object at 0x000001B8235DF490>, <nodie.spells.Spell object at 0x000001B8235DF4C0>, <nodie.spells.Spell object at 0x000001B8235DF4F0>, <nodie.spells.Spell object at 0x000001B8235DF520>, <nodie.spells.Spell object at 0x000001B8235DF550>, <nodie.spells.Spell object at 0x000001B8235DF580>, <nodie.spells.Spell object at 0x000001B8235DF5B0>, <nodie.spells.Spell object at 0x000001B8235DF5E0>, <nodie.spells.Spell object at 0x000001B8235DF610>, <nodie.spells.Spell object at 0x000001B8235DF640>, <nodie.spells.Spell object at 0x000001B8235DF340>, <nodie.spells.Spell object at 0x000001B8235DF670>, <nodie.spells.Spell object at 0x000001B8235DF6A0>, <nodie.spells.Spell object at 0x000001B8235DF6D0>, <nodie.spells.Spell object at 0x000001B8235DF700>, <nodie.spells.Spell object at 0x000001B8235DF730>, <nodie.spells.Spell object at 0x000001B8235DF760>]\n"
     ]
    }
   ],
   "source": [
    "print(spells)"
   ]
  },
  {
   "cell_type": "code",
   "execution_count": 19,
   "metadata": {},
   "outputs": [
    {
     "data": {
      "text/plain": [
       "'Spell'"
      ]
     },
     "execution_count": 19,
     "metadata": {},
     "output_type": "execute_result"
    }
   ],
   "source": [
    "Spell.__name__"
   ]
  },
  {
   "cell_type": "code",
   "execution_count": null,
   "metadata": {},
   "outputs": [],
   "source": []
  }
 ],
 "metadata": {
  "kernelspec": {
   "display_name": "Python 3",
   "language": "python",
   "name": "python3"
  },
  "language_info": {
   "codemirror_mode": {
    "name": "ipython",
    "version": 3
   },
   "file_extension": ".py",
   "mimetype": "text/x-python",
   "name": "python",
   "nbconvert_exporter": "python",
   "pygments_lexer": "ipython3",
   "version": "3.8.3"
  }
 },
 "nbformat": 4,
 "nbformat_minor": 4
}
