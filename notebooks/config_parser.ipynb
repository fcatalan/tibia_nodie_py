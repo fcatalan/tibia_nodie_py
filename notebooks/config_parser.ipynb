{
 "cells": [
  {
   "cell_type": "code",
   "execution_count": 1,
   "metadata": {},
   "outputs": [],
   "source": [
    "# activates python modules auto reload\n",
    "%load_ext autoreload\n",
    "%autoreload 2\n",
    "\n",
    "import json, secrets, collections, decimal\n",
    "\n",
    "import sys\n",
    "sys.path.append('..')\n",
    "\n",
    "import configparser"
   ]
  },
  {
   "cell_type": "code",
   "execution_count": 3,
   "metadata": {},
   "outputs": [
    {
     "data": {
      "text/plain": [
       "['config.ini']"
      ]
     },
     "execution_count": 3,
     "metadata": {},
     "output_type": "execute_result"
    }
   ],
   "source": [
    "cfg = configparser.ConfigParser()\n",
    "cfg.read('config.ini')\n",
    "\n",
    "cfgKeys = configparser.ConfigParser()\n",
    "cfgKeys.read('config.ini')"
   ]
  },
  {
   "cell_type": "code",
   "execution_count": null,
   "metadata": {},
   "outputs": [],
   "source": [
    "cfg.sections()"
   ]
  },
  {
   "cell_type": "code",
   "execution_count": null,
   "metadata": {},
   "outputs": [],
   "source": [
    "character_name = cfg['Character']['name']\n",
    "vocation = cfg['Character']['vocation']"
   ]
  },
  {
   "cell_type": "code",
   "execution_count": null,
   "metadata": {},
   "outputs": [],
   "source": [
    "ring = cfg['Rune Maker']['ring']\n",
    "boots = cfg['Rune Maker']['boots']\n",
    "food = cfg['Rune Maker']['food']\n",
    "rune_spell = cfg['Rune Maker']['rune_spell']"
   ]
  },
  {
   "cell_type": "code",
   "execution_count": null,
   "metadata": {},
   "outputs": [],
   "source": [
    "ring_keys = cfg['Rune Maker']['ring_keys'].replace(' ', '').split(',')\n",
    "boots_keys = cfg['Rune Maker']['boots_keys'].replace(' ', '').split(',')\n",
    "food_keys = cfg['Rune Maker']['food_keys'].replace(' ', '').split(',')\n",
    "rune_spell_keys = cfg['Rune Maker']['rune_spell_keys'].replace(' ', '').split(',')\n",
    "waste_spell_keys = cfg['Rune Maker']['waste_spell_keys'].replace(' ', '').split(',')"
   ]
  },
  {
   "cell_type": "code",
   "execution_count": null,
   "metadata": {},
   "outputs": [],
   "source": [
    "ring_keys"
   ]
  },
  {
   "cell_type": "code",
   "execution_count": null,
   "metadata": {},
   "outputs": [],
   "source": [
    "ring_keys"
   ]
  },
  {
   "cell_type": "code",
   "execution_count": null,
   "metadata": {},
   "outputs": [],
   "source": [
    "rune_spell"
   ]
  },
  {
   "cell_type": "code",
   "execution_count": null,
   "metadata": {},
   "outputs": [],
   "source": []
  }
 ],
 "metadata": {
  "kernelspec": {
   "display_name": "Python 3",
   "language": "python",
   "name": "python3"
  },
  "language_info": {
   "codemirror_mode": {
    "name": "ipython",
    "version": 3
   },
   "file_extension": ".py",
   "mimetype": "text/x-python",
   "name": "python",
   "nbconvert_exporter": "python",
   "pygments_lexer": "ipython3",
   "version": "3.8.3"
  }
 },
 "nbformat": 4,
 "nbformat_minor": 4
}
