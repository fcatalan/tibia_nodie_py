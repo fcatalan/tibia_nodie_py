{
 "cells": [
  {
   "cell_type": "code",
   "execution_count": 53,
   "metadata": {},
   "outputs": [],
   "source": [
    "import xmltodict, json, secrets"
   ]
  },
  {
   "cell_type": "code",
   "execution_count": 39,
   "metadata": {},
   "outputs": [],
   "source": [
    "\n",
    "with open('../data/vocations/vocations.xml') as inFh:\n",
    "    with open('../data/vocations/vocations.json', 'w') as outFh:\n",
    "        json.dump(xmltodict.parse(inFh.read()), outFh , sort_keys=True, indent=4)"
   ]
  },
  {
   "cell_type": "code",
   "execution_count": 40,
   "metadata": {},
   "outputs": [],
   "source": [
    "with open('vocations.json') as f:\n",
    "    data = json.load(f)"
   ]
  },
  {
   "cell_type": "code",
   "execution_count": 41,
   "metadata": {},
   "outputs": [
    {
     "data": {
      "text/plain": [
       "list"
      ]
     },
     "execution_count": 41,
     "metadata": {},
     "output_type": "execute_result"
    }
   ],
   "source": [
    "type(data['vocations'])"
   ]
  },
  {
   "cell_type": "code",
   "execution_count": 42,
   "metadata": {},
   "outputs": [
    {
     "name": "stdout",
     "output_type": "stream",
     "text": [
      "{'vocations': [{'id': '1', 'name': 'Elder Druid', 'capLvUp': '10', 'hpLvUp': '5', 'mpLvUp': '30', 'regen': {'hpTicks': '4', 'hpGain': '10', 'mpTicks': '2', 'mpGain': '10'}}, {'id': '2', 'name': 'Elite Knight', 'capLvUp': '25', 'hpLvUp': '15', 'mpLvUp': '5', 'regen': {'hpTicks': '2', 'hpGain': '10', 'mpTicks': '4', 'mpGain': '10'}}, {'id': '3', 'name': 'Master Sorcerer', 'capLvUp': '10', 'hpLvUp': '5', 'mpLvUp': '30', 'regen': {'hpTicks': '4', 'hpGain': '10', 'mpTicks': '2', 'mpGain': '10'}}, {'id': '4', 'name': 'Royal Paladin', 'capLvUp': '20', 'hpLvUp': '10', 'mpLvUp': '15', 'regen': {'hpTicks': '3', 'hpGain': '10', 'mpTicks': '3', 'mpGain': '10'}}]}\n"
     ]
    }
   ],
   "source": [
    "print(data)"
   ]
  },
  {
   "cell_type": "code",
   "execution_count": 43,
   "metadata": {},
   "outputs": [
    {
     "name": "stdout",
     "output_type": "stream",
     "text": [
      "{\n",
      "    \"vocations\": [\n",
      "        {\n",
      "            \"id\": \"1\",\n",
      "            \"name\": \"Elder Druid\",\n",
      "            \"capLvUp\": \"10\",\n",
      "            \"hpLvUp\": \"5\",\n",
      "            \"mpLvUp\": \"30\",\n",
      "            \"regen\": {\n",
      "                \"hpTicks\": \"4\",\n",
      "                \"hpGain\": \"10\",\n",
      "                \"mpTicks\": \"2\",\n",
      "                \"mpGain\": \"10\"\n",
      "            }\n",
      "        },\n",
      "        {\n",
      "            \"id\": \"2\",\n",
      "            \"name\": \"Elite Knight\",\n",
      "            \"capLvUp\": \"25\",\n",
      "            \"hpLvUp\": \"15\",\n",
      "            \"mpLvUp\": \"5\",\n",
      "            \"regen\": {\n",
      "                \"hpTicks\": \"2\",\n",
      "                \"hpGain\": \"10\",\n",
      "                \"mpTicks\": \"4\",\n",
      "                \"mpGain\": \"10\"\n",
      "            }\n",
      "        },\n",
      "        {\n",
      "            \"id\": \"3\",\n",
      "            \"name\": \"Master Sorcerer\",\n",
      "            \"capLvUp\": \"10\",\n",
      "            \"hpLvUp\": \"5\",\n",
      "            \"mpLvUp\": \"30\",\n",
      "            \"regen\": {\n",
      "                \"hpTicks\": \"4\",\n",
      "                \"hpGain\": \"10\",\n",
      "                \"mpTicks\": \"2\",\n",
      "                \"mpGain\": \"10\"\n",
      "            }\n",
      "        },\n",
      "        {\n",
      "            \"id\": \"4\",\n",
      "            \"name\": \"Royal Paladin\",\n",
      "            \"capLvUp\": \"20\",\n",
      "            \"hpLvUp\": \"10\",\n",
      "            \"mpLvUp\": \"15\",\n",
      "            \"regen\": {\n",
      "                \"hpTicks\": \"3\",\n",
      "                \"hpGain\": \"10\",\n",
      "                \"mpTicks\": \"3\",\n",
      "                \"mpGain\": \"10\"\n",
      "            }\n",
      "        }\n",
      "    ]\n",
      "}\n"
     ]
    }
   ],
   "source": [
    "print(json.dumps(data, indent=4))"
   ]
  },
  {
   "cell_type": "code",
   "execution_count": 44,
   "metadata": {},
   "outputs": [],
   "source": [
    "class Vocation():\n",
    "\n",
    "    def __init__(self, voc_id, name, capLvUp, hpLvUp, mpLvUp, regen):\n",
    "        self.id = voc_id\n",
    "        self.name = name\n",
    "        self.capLvUp = capLvUp\n",
    "        self.hpLvUp = hpLvUp\n",
    "        self.mpLvUp = mpLvUp\n",
    "        self.regen = regen\n",
    "\n",
    "    @classmethod\n",
    "    def from_dict(cls, dic):\n",
    "        regen = Regeneration.from_dict(dic['regen'])\n",
    "        return cls(*(dic.get(key) for key in ['id', 'name', 'capLvUp', 'hpLvUp', 'mpLvUp']), regen)\n",
    "        #return cls(dic['id'], dic['name'], dic['capLvUp'], dic['hpLvUp'], dic['mpLvUp'], regen)\n",
    "    \n",
    "class Regeneration():\n",
    "\n",
    "    soulTicks = 15\n",
    "    soulGain = 1\n",
    "\n",
    "    def __init__(self, hpTicks, hpGain, mpTicks, mpGain):\n",
    "        self.hpTicks = hpTicks\n",
    "        self.hpGain = hpGain\n",
    "        self.mpTicks = mpTicks\n",
    "        self.mpGain = mpGain\n",
    "\n",
    "    @classmethod\n",
    "    def from_dict(cls, dic):\n",
    "        return cls(dic['hpTicks'], dic['hpGain'], dic['mpTicks'], dic['mpGain'])\n",
    "\n",
    "    @property\n",
    "    def hpSec(self):\n",
    "        return self.hpGain/self.hpTicks\n",
    "\n",
    "    @property\n",
    "    def mpSec(self):\n",
    "        return self.mpGain/self.mpTicks\n",
    "\n",
    "    @property\n",
    "    def soulSec(self):\n",
    "        return self.soulGain/self.soulTicks\n",
    "\n",
    "    def __add__(self, other):\n",
    "        self.hpTicks += other.hpTicks\n",
    "        self.hpGain += other.hpGain\n",
    "        self.mpTicks += other.mpTicks\n",
    "        self.mpGain += other.mpGain\n",
    "\n",
    "    def __sub__(self, other):\n",
    "        self.hpTicks += other.hpTicks\n",
    "        self.hpGain += other.hpGain\n",
    "        self.mpTicks += other.mpTicks\n",
    "        self.mpGain += other.mpGain\n",
    "\n"
   ]
  },
  {
   "cell_type": "code",
   "execution_count": 49,
   "metadata": {},
   "outputs": [],
   "source": [
    "V = []\n",
    "for v in data['vocations']:\n",
    "    V.append(Vocation.from_dict(v))"
   ]
  },
  {
   "cell_type": "code",
   "execution_count": 52,
   "metadata": {},
   "outputs": [
    {
     "name": "stdout",
     "output_type": "stream",
     "text": [
      "{'id': '1', 'name': 'Elder Druid', 'capLvUp': '10', 'hpLvUp': '5', 'mpLvUp': '30', 'regen': <__main__.Regeneration object at 0x000001C36B1B42E0>}\n",
      "{'hpTicks': '4', 'hpGain': '10', 'mpTicks': '2', 'mpGain': '10'}\n",
      "{'id': '2', 'name': 'Elite Knight', 'capLvUp': '25', 'hpLvUp': '15', 'mpLvUp': '5', 'regen': <__main__.Regeneration object at 0x000001C36B1B4490>}\n",
      "{'hpTicks': '2', 'hpGain': '10', 'mpTicks': '4', 'mpGain': '10'}\n",
      "{'id': '3', 'name': 'Master Sorcerer', 'capLvUp': '10', 'hpLvUp': '5', 'mpLvUp': '30', 'regen': <__main__.Regeneration object at 0x000001C36B1B4FD0>}\n",
      "{'hpTicks': '4', 'hpGain': '10', 'mpTicks': '2', 'mpGain': '10'}\n",
      "{'id': '4', 'name': 'Royal Paladin', 'capLvUp': '20', 'hpLvUp': '10', 'mpLvUp': '15', 'regen': <__main__.Regeneration object at 0x000001C36B1B48E0>}\n",
      "{'hpTicks': '3', 'hpGain': '10', 'mpTicks': '3', 'mpGain': '10'}\n"
     ]
    }
   ],
   "source": [
    "for v in V: \n",
    "    print(v.__dict__)\n",
    "    print(v.regen.__dict__)\n",
    "    "
   ]
  },
  {
   "cell_type": "code",
   "execution_count": 47,
   "metadata": {},
   "outputs": [
    {
     "ename": "TypeError",
     "evalue": "unsupported operand type(s) for /: 'NoneType' and 'int'",
     "output_type": "error",
     "traceback": [
      "\u001b[1;31m---------------------------------------------------------------------------\u001b[0m",
      "\u001b[1;31mTypeError\u001b[0m                                 Traceback (most recent call last)",
      "\u001b[1;32m<ipython-input-47-cc23a91757dc>\u001b[0m in \u001b[0;36m<module>\u001b[1;34m\u001b[0m\n\u001b[1;32m----> 1\u001b[1;33m \u001b[0mprint\u001b[0m\u001b[1;33m(\u001b[0m\u001b[1;32mNone\u001b[0m\u001b[1;33m/\u001b[0m\u001b[1;36m1\u001b[0m\u001b[1;33m)\u001b[0m\u001b[1;33m\u001b[0m\u001b[1;33m\u001b[0m\u001b[0m\n\u001b[0m",
      "\u001b[1;31mTypeError\u001b[0m: unsupported operand type(s) for /: 'NoneType' and 'int'"
     ]
    }
   ],
   "source": [
    "print(None/1)"
   ]
  },
  {
   "cell_type": "code",
   "execution_count": 11,
   "metadata": {},
   "outputs": [
    {
     "data": {
      "text/plain": [
       "[{'id': '1',\n",
       "  'name': 'Elder Druid',\n",
       "  'capLvUp': '10',\n",
       "  'hpLvUp': '5',\n",
       "  'mpLvUp': '30',\n",
       "  'regen': {'hpTicks': '4', 'hpGain': '10', 'mpTicks': '2', 'mpGain': '10'}},\n",
       " {'id': '2',\n",
       "  'name': 'Elite Knight',\n",
       "  'capLvUp': '25',\n",
       "  'hpLvUp': '15',\n",
       "  'mpLvUp': '5',\n",
       "  'regen': {'hpTicks': '2', 'hpGain': '10', 'mpTicks': '4', 'mpGain': '10'}},\n",
       " {'id': '3',\n",
       "  'name': 'Master Sorcerer',\n",
       "  'capLvUp': '10',\n",
       "  'hpLvUp': '5',\n",
       "  'mpLvUp': '30',\n",
       "  'regen': {'hpTicks': '4', 'hpGain': '10', 'mpTicks': '2', 'mpGain': '10'}},\n",
       " {'id': '4',\n",
       "  'name': 'Royal Paladin',\n",
       "  'capLvUp': '20',\n",
       "  'hpLvUp': '10',\n",
       "  'mpLvUp': '15',\n",
       "  'regen': {'hpTicks': '3', 'hpGain': '10', 'mpTicks': '3', 'mpGain': '10'}}]"
      ]
     },
     "execution_count": 11,
     "metadata": {},
     "output_type": "execute_result"
    }
   ],
   "source": [
    "data['vocations']"
   ]
  },
  {
   "cell_type": "code",
   "execution_count": 12,
   "metadata": {},
   "outputs": [
    {
     "data": {
      "text/plain": [
       "list"
      ]
     },
     "execution_count": 12,
     "metadata": {},
     "output_type": "execute_result"
    }
   ],
   "source": [
    "type(data['vocations'])"
   ]
  },
  {
   "cell_type": "code",
   "execution_count": 20,
   "metadata": {},
   "outputs": [
    {
     "ename": "NameError",
     "evalue": "name 'x' is not defined",
     "output_type": "error",
     "traceback": [
      "\u001b[1;31m---------------------------------------------------------------------------\u001b[0m",
      "\u001b[1;31mNameError\u001b[0m                                 Traceback (most recent call last)",
      "\u001b[1;32m<ipython-input-20-83ff4860f1d3>\u001b[0m in \u001b[0;36m<module>\u001b[1;34m\u001b[0m\n\u001b[1;32m----> 1\u001b[1;33m \u001b[0mx\u001b[0m\u001b[1;33m(\u001b[0m\u001b[1;33m*\u001b[0m\u001b[1;33m[\u001b[0m\u001b[0mdata\u001b[0m\u001b[1;33m[\u001b[0m\u001b[1;34m'vocations'\u001b[0m\u001b[1;33m]\u001b[0m\u001b[1;33m[\u001b[0m\u001b[1;36m0\u001b[0m\u001b[1;33m]\u001b[0m\u001b[1;33m.\u001b[0m\u001b[0mget\u001b[0m\u001b[1;33m(\u001b[0m\u001b[0mkey\u001b[0m\u001b[1;33m)\u001b[0m \u001b[1;32mfor\u001b[0m \u001b[0mkey\u001b[0m \u001b[1;32min\u001b[0m \u001b[1;33m[\u001b[0m\u001b[1;34m'id'\u001b[0m\u001b[1;33m,\u001b[0m \u001b[1;34m'name'\u001b[0m\u001b[1;33m]\u001b[0m\u001b[1;33m]\u001b[0m\u001b[1;33m)\u001b[0m\u001b[1;33m\u001b[0m\u001b[1;33m\u001b[0m\u001b[0m\n\u001b[0m",
      "\u001b[1;31mNameError\u001b[0m: name 'x' is not defined"
     ]
    }
   ],
   "source": [
    "x(*[data['vocations'][0].get(key) for key in ['id', 'name']])"
   ]
  },
  {
   "cell_type": "code",
   "execution_count": 21,
   "metadata": {},
   "outputs": [
    {
     "ename": "SyntaxError",
     "evalue": "can't use starred expression here (<ipython-input-21-81dd5a280a1d>, line 1)",
     "output_type": "error",
     "traceback": [
      "\u001b[1;36m  File \u001b[1;32m\"<ipython-input-21-81dd5a280a1d>\"\u001b[1;36m, line \u001b[1;32m1\u001b[0m\n\u001b[1;33m    *(1, 2)\u001b[0m\n\u001b[1;37m    ^\u001b[0m\n\u001b[1;31mSyntaxError\u001b[0m\u001b[1;31m:\u001b[0m can't use starred expression here\n"
     ]
    }
   ],
   "source": [
    "*(1, 2)"
   ]
  },
  {
   "cell_type": "code",
   "execution_count": 23,
   "metadata": {},
   "outputs": [
    {
     "ename": "TypeError",
     "evalue": "'int' object is not iterable",
     "output_type": "error",
     "traceback": [
      "\u001b[1;31m---------------------------------------------------------------------------\u001b[0m",
      "\u001b[1;31mTypeError\u001b[0m                                 Traceback (most recent call last)",
      "\u001b[1;32m<ipython-input-23-597f58b887ac>\u001b[0m in \u001b[0;36m<module>\u001b[1;34m\u001b[0m\n\u001b[1;32m----> 1\u001b[1;33m \u001b[0msum\u001b[0m\u001b[1;33m(\u001b[0m\u001b[1;33m*\u001b[0m\u001b[1;33m[\u001b[0m\u001b[1;36m1\u001b[0m\u001b[1;33m,\u001b[0m \u001b[1;36m2\u001b[0m\u001b[1;33m]\u001b[0m\u001b[1;33m)\u001b[0m\u001b[1;33m\u001b[0m\u001b[1;33m\u001b[0m\u001b[0m\n\u001b[0m",
      "\u001b[1;31mTypeError\u001b[0m: 'int' object is not iterable"
     ]
    }
   ],
   "source": [
    "sum(*[1, 2])"
   ]
  },
  {
   "cell_type": "code",
   "execution_count": 24,
   "metadata": {},
   "outputs": [],
   "source": [
    "def add(x, y):\n",
    "    print(x + y)"
   ]
  },
  {
   "cell_type": "code",
   "execution_count": 29,
   "metadata": {},
   "outputs": [
    {
     "name": "stdout",
     "output_type": "stream",
     "text": [
      "3\n"
     ]
    }
   ],
   "source": [
    "add(*(i for i in range(1, 3)))"
   ]
  },
  {
   "cell_type": "code",
   "execution_count": 55,
   "metadata": {},
   "outputs": [
    {
     "data": {
      "text/plain": [
       "1"
      ]
     },
     "execution_count": 55,
     "metadata": {},
     "output_type": "execute_result"
    }
   ],
   "source": [
    "secrets.choice([1])"
   ]
  },
  {
   "cell_type": "code",
   "execution_count": 58,
   "metadata": {},
   "outputs": [
    {
     "data": {
      "text/plain": [
       "[[1, 2]]"
      ]
     },
     "execution_count": 58,
     "metadata": {},
     "output_type": "execute_result"
    }
   ],
   "source": [
    "[[1, 2]]"
   ]
  },
  {
   "cell_type": "code",
   "execution_count": 61,
   "metadata": {},
   "outputs": [
    {
     "name": "stdout",
     "output_type": "stream",
     "text": [
      "300 0\n"
     ]
    }
   ],
   "source": []
  },
  {
   "cell_type": "code",
   "execution_count": 6,
   "metadata": {},
   "outputs": [],
   "source": [
    "import win32gui\n",
    "import win32con\n",
    "import win32api\n",
    "\n",
    "from time import sleep\n",
    "hnd = win32gui.FindWindow(None, \"Tibia\")"
   ]
  },
  {
   "cell_type": "code",
   "execution_count": 12,
   "metadata": {},
   "outputs": [],
   "source": [
    "sleep(5)\n",
    "temp = win32api.PostMessage(hnd, win32con.WM_CHAR, ord('a'))"
   ]
  },
  {
   "cell_type": "code",
   "execution_count": 8,
   "metadata": {},
   "outputs": [
    {
     "name": "stdout",
     "output_type": "stream",
     "text": [
      "None\n"
     ]
    }
   ],
   "source": [
    "print(temp)"
   ]
  },
  {
   "cell_type": "markdown",
   "metadata": {},
   "source": [
    "Post a message to a window.\n",
    "\n",
    "Parameters\n",
    "\n",
    "hwnd : PyHANDLE\n",
    "\n",
    "    The hWnd of the window to receive the message.\n",
    "\n",
    "idMessage : int\n",
    "\n",
    "    The ID of the message to post.\n",
    "\n",
    "wParam=None : int\n",
    "\n",
    "    The wParam for the message\n",
    "\n",
    "lParam=None : int\n",
    "\n",
    "    The lParam for the message"
   ]
  }
 ],
 "metadata": {
  "kernelspec": {
   "display_name": "Python 3",
   "language": "python",
   "name": "python3"
  },
  "language_info": {
   "codemirror_mode": {
    "name": "ipython",
    "version": 3
   },
   "file_extension": ".py",
   "mimetype": "text/x-python",
   "name": "python",
   "nbconvert_exporter": "python",
   "pygments_lexer": "ipython3",
   "version": "3.8.3"
  }
 },
 "nbformat": 4,
 "nbformat_minor": 4
}
