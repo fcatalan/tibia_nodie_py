{
 "cells": [
  {
   "cell_type": "code",
   "execution_count": 59,
   "metadata": {},
   "outputs": [
    {
     "name": "stdout",
     "output_type": "stream",
     "text": [
      "The autoreload extension is already loaded. To reload it, use:\n",
      "  %reload_ext autoreload\n"
     ]
    }
   ],
   "source": [
    "# activates python modules auto reload\n",
    "%load_ext autoreload\n",
    "%autoreload 2\n",
    "\n",
    "import json, secrets, collections, decimal\n",
    "\n",
    "import sys\n",
    "sys.path.append('..')\n",
    "\n",
    "from nodie.spells import Spell\n",
    "from nodie.items import Item, Equipment, Food\n",
    "from nodie.character import Character, Vocation"
   ]
  },
  {
   "cell_type": "code",
   "execution_count": 61,
   "metadata": {},
   "outputs": [],
   "source": [
    "with open('vocations.json') as f:\n",
    "    data = json.load(f, parse_float=decimal.Decimal, parse_int=decimal.Decimal)"
   ]
  },
  {
   "cell_type": "code",
   "execution_count": 62,
   "metadata": {},
   "outputs": [
    {
     "data": {
      "text/plain": [
       "'5'"
      ]
     },
     "execution_count": 62,
     "metadata": {},
     "output_type": "execute_result"
    }
   ],
   "source": [
    "data['vocations'][0]['hpLvUp']"
   ]
  },
  {
   "cell_type": "code",
   "execution_count": 43,
   "metadata": {},
   "outputs": [
    {
     "name": "stdout",
     "output_type": "stream",
     "text": [
      "{\n",
      "    \"vocations\": [\n",
      "        {\n",
      "            \"id\": \"1\",\n",
      "            \"name\": \"Elder Druid\",\n",
      "            \"capLvUp\": \"10\",\n",
      "            \"hpLvUp\": \"5\",\n",
      "            \"mpLvUp\": \"30\",\n",
      "            \"regen\": {\n",
      "                \"hpTicks\": \"12\",\n",
      "                \"hpGain\": \"1\",\n",
      "                \"mpTicks\": \"2\",\n",
      "                \"mpGain\": \"2\"\n",
      "            }\n",
      "        },\n",
      "        {\n",
      "            \"id\": \"2\",\n",
      "            \"name\": \"Elite Knight\",\n",
      "            \"capLvUp\": \"25\",\n",
      "            \"hpLvUp\": \"15\",\n",
      "            \"mpLvUp\": \"5\",\n",
      "            \"regen\": {\n",
      "                \"hpTicks\": \"4\",\n",
      "                \"hpGain\": \"1\",\n",
      "                \"mpTicks\": \"6\",\n",
      "                \"mpGain\": \"2\"\n",
      "            }\n",
      "        },\n",
      "        {\n",
      "            \"id\": \"3\",\n",
      "            \"name\": \"Master Sorcerer\",\n",
      "            \"capLvUp\": \"10\",\n",
      "            \"hpLvUp\": \"5\",\n",
      "            \"mpLvUp\": \"30\",\n",
      "            \"regen\": {\n",
      "                \"hpTicks\": \"12\",\n",
      "                \"hpGain\": \"1\",\n",
      "                \"mpTicks\": \"2\",\n",
      "                \"mpGain\": \"2\"\n",
      "            }\n",
      "        },\n",
      "        {\n",
      "            \"id\": \"4\",\n",
      "            \"name\": \"Royal Paladin\",\n",
      "            \"capLvUp\": \"20\",\n",
      "            \"hpLvUp\": \"10\",\n",
      "            \"mpLvUp\": \"15\",\n",
      "            \"regen\": {\n",
      "                \"hpTicks\": \"6\",\n",
      "                \"hpGain\": \"1\",\n",
      "                \"mpTicks\": \"3\",\n",
      "                \"mpGain\": \"2\"\n",
      "            }\n",
      "        }\n",
      "    ]\n",
      "}\n"
     ]
    }
   ],
   "source": [
    "print(json.dumps(data, indent=4))"
   ]
  },
  {
   "cell_type": "code",
   "execution_count": 18,
   "metadata": {},
   "outputs": [],
   "source": [
    "d = (data['vocations'][0]['regen'])"
   ]
  },
  {
   "cell_type": "code",
   "execution_count": 24,
   "metadata": {},
   "outputs": [
    {
     "ename": "SyntaxError",
     "evalue": "can't use starred expression here (<ipython-input-24-9a1764c75345>, line 2)",
     "output_type": "error",
     "traceback": [
      "\u001b[1;36m  File \u001b[1;32m\"<ipython-input-24-9a1764c75345>\"\u001b[1;36m, line \u001b[1;32m2\u001b[0m\n\u001b[1;33m    x = *l\u001b[0m\n\u001b[1;37m        ^\u001b[0m\n\u001b[1;31mSyntaxError\u001b[0m\u001b[1;31m:\u001b[0m can't use starred expression here\n"
     ]
    }
   ],
   "source": [
    "l = [1, 2, 3]\n",
    "x = *l"
   ]
  },
  {
   "cell_type": "code",
   "execution_count": 40,
   "metadata": {},
   "outputs": [
    {
     "data": {
      "text/plain": [
       "{'hpTicks': '12', 'hpGain': '1', 'mpTicks': '2', 'mpGain': '2'}"
      ]
     },
     "execution_count": 40,
     "metadata": {},
     "output_type": "execute_result"
    }
   ],
   "source": []
  },
  {
   "cell_type": "code",
   "execution_count": 38,
   "metadata": {},
   "outputs": [],
   "source": [
    "def add(hpTicks, hpGain, mpTicks, mpGain):\n",
    "    s = hpTicks + hpGain + mpTicks + mpGain \n",
    "    print(s)\n",
    "    return s\n"
   ]
  },
  {
   "cell_type": "code",
   "execution_count": 39,
   "metadata": {},
   "outputs": [
    {
     "name": "stdout",
     "output_type": "stream",
     "text": [
      "12122\n"
     ]
    },
    {
     "data": {
      "text/plain": [
       "'12122'"
      ]
     },
     "execution_count": 39,
     "metadata": {},
     "output_type": "execute_result"
    }
   ],
   "source": [
    "add(**d)"
   ]
  },
  {
   "cell_type": "code",
   "execution_count": 25,
   "metadata": {},
   "outputs": [
    {
     "ename": "SyntaxError",
     "evalue": "invalid syntax (<ipython-input-25-4999fef0d213>, line 1)",
     "output_type": "error",
     "traceback": [
      "\u001b[1;36m  File \u001b[1;32m\"<ipython-input-25-4999fef0d213>\"\u001b[1;36m, line \u001b[1;32m1\u001b[0m\n\u001b[1;33m    [x for x in **d]\u001b[0m\n\u001b[1;37m                ^\u001b[0m\n\u001b[1;31mSyntaxError\u001b[0m\u001b[1;31m:\u001b[0m invalid syntax\n"
     ]
    }
   ],
   "source": [
    "[x for x in **d]"
   ]
  },
  {
   "cell_type": "code",
   "execution_count": 5,
   "metadata": {},
   "outputs": [],
   "source": [
    "V = []\n",
    "for v in data['vocations']:\n",
    "    V.append(Vocation.from_dict(v))"
   ]
  },
  {
   "cell_type": "code",
   "execution_count": 11,
   "metadata": {},
   "outputs": [
    {
     "name": "stdout",
     "output_type": "stream",
     "text": [
      "{'id': '1', 'name': 'Elder Druid', 'capLvUp': '10', 'hpLvUp': '5', 'mpLvUp': '30', 'regen': <nodie.regeneration.Regeneration object at 0x000002892DF4CB20>}\n",
      "{'hpTicks': '12', 'hpGain': '1', 'mpTicks': '2', 'mpGain': '2'}\n"
     ]
    },
    {
     "ename": "TypeError",
     "evalue": "'Vocation' object is not subscriptable",
     "output_type": "error",
     "traceback": [
      "\u001b[1;31m---------------------------------------------------------------------------\u001b[0m",
      "\u001b[1;31mTypeError\u001b[0m                                 Traceback (most recent call last)",
      "\u001b[1;32m<ipython-input-11-16067674f155>\u001b[0m in \u001b[0;36m<module>\u001b[1;34m\u001b[0m\n\u001b[0;32m      2\u001b[0m \u001b[0mprint\u001b[0m\u001b[1;33m(\u001b[0m\u001b[0mv\u001b[0m\u001b[1;33m.\u001b[0m\u001b[0m__dict__\u001b[0m\u001b[1;33m)\u001b[0m\u001b[1;33m\u001b[0m\u001b[1;33m\u001b[0m\u001b[0m\n\u001b[0;32m      3\u001b[0m \u001b[0mprint\u001b[0m\u001b[1;33m(\u001b[0m\u001b[0mv\u001b[0m\u001b[1;33m.\u001b[0m\u001b[0mregen\u001b[0m\u001b[1;33m.\u001b[0m\u001b[0m__dict__\u001b[0m\u001b[1;33m)\u001b[0m\u001b[1;33m\u001b[0m\u001b[1;33m\u001b[0m\u001b[0m\n\u001b[1;32m----> 4\u001b[1;33m \u001b[0mvars\u001b[0m\u001b[1;33m(\u001b[0m\u001b[0mv\u001b[0m\u001b[1;33m[\u001b[0m\u001b[1;36m0\u001b[0m\u001b[1;33m]\u001b[0m\u001b[1;33m)\u001b[0m\u001b[1;33m\u001b[0m\u001b[1;33m\u001b[0m\u001b[0m\n\u001b[0m",
      "\u001b[1;31mTypeError\u001b[0m: 'Vocation' object is not subscriptable"
     ]
    }
   ],
   "source": [
    "v = V[0]\n",
    "print(v.__dict__)\n",
    "print(v.regen.__dict__)\n",
    "vars(v[0])"
   ]
  },
  {
   "cell_type": "code",
   "execution_count": 7,
   "metadata": {},
   "outputs": [
    {
     "name": "stdout",
     "output_type": "stream",
     "text": [
      "{'id': '1', 'name': 'Elder Druid', 'capLvUp': '10', 'hpLvUp': '5', 'mpLvUp': '30', 'regen': <nodie.regeneration.Regeneration object at 0x000002892DF4CB20>}\n",
      "{'hpTicks': '12', 'hpGain': '1', 'mpTicks': '2', 'mpGain': '2'}\n",
      "{'id': '2', 'name': 'Elite Knight', 'capLvUp': '25', 'hpLvUp': '15', 'mpLvUp': '5', 'regen': <nodie.regeneration.Regeneration object at 0x000002892DF4CB50>}\n",
      "{'hpTicks': '4', 'hpGain': '1', 'mpTicks': '6', 'mpGain': '2'}\n",
      "{'id': '3', 'name': 'Master Sorcerer', 'capLvUp': '10', 'hpLvUp': '5', 'mpLvUp': '30', 'regen': <nodie.regeneration.Regeneration object at 0x000002892DF4CA90>}\n",
      "{'hpTicks': '12', 'hpGain': '1', 'mpTicks': '2', 'mpGain': '2'}\n",
      "{'id': '4', 'name': 'Royal Paladin', 'capLvUp': '20', 'hpLvUp': '10', 'mpLvUp': '15', 'regen': <nodie.regeneration.Regeneration object at 0x000002892DF4CBE0>}\n",
      "{'hpTicks': '6', 'hpGain': '1', 'mpTicks': '3', 'mpGain': '2'}\n"
     ]
    }
   ],
   "source": [
    "for v in V: \n",
    "    print(v.__dict__)\n",
    "    print(v.regen.__dict__)\n",
    "    "
   ]
  }
 ],
 "metadata": {
  "kernelspec": {
   "display_name": "Python 3",
   "language": "python",
   "name": "python3"
  },
  "language_info": {
   "codemirror_mode": {
    "name": "ipython",
    "version": 3
   },
   "file_extension": ".py",
   "mimetype": "text/x-python",
   "name": "python",
   "nbconvert_exporter": "python",
   "pygments_lexer": "ipython3",
   "version": "3.8.3"
  }
 },
 "nbformat": 4,
 "nbformat_minor": 4
}
