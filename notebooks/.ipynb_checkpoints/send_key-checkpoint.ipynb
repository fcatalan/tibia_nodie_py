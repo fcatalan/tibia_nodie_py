{
 "cells": [
  {
   "cell_type": "code",
   "execution_count": 4,
   "metadata": {},
   "outputs": [],
   "source": [
    "import win32gui\n",
    "import win32con\n",
    "import win32api\n",
    "\n",
    "from time import sleep\n",
    "hnd = win32gui.FindWindow(None, \"Tibia - Sabe Quem Eh\")"
   ]
  },
  {
   "cell_type": "code",
   "execution_count": 6,
   "metadata": {},
   "outputs": [
    {
     "data": {
      "text/plain": [
       "6424128"
      ]
     },
     "execution_count": 6,
     "metadata": {},
     "output_type": "execute_result"
    }
   ],
   "source": [
    "hnd"
   ]
  },
  {
   "cell_type": "code",
   "execution_count": 11,
   "metadata": {},
   "outputs": [
    {
     "data": {
      "text/plain": [
       "258"
      ]
     },
     "execution_count": 11,
     "metadata": {},
     "output_type": "execute_result"
    }
   ],
   "source": [
    "win32con.WM_CHAR"
   ]
  },
  {
   "cell_type": "code",
   "execution_count": 21,
   "metadata": {},
   "outputs": [
    {
     "name": "stdout",
     "output_type": "stream",
     "text": [
      "Help on built-in function PostMessage in module win32api:\n",
      "\n",
      "PostMessage(...)\n",
      "\n"
     ]
    }
   ],
   "source": [
    "help(win32api.PostMessage)"
   ]
  },
  {
   "cell_type": "code",
   "execution_count": 15,
   "metadata": {},
   "outputs": [],
   "source": [
    "sleep(1)\n",
    "temp = win32api.PostMessage(hnd, win32con.WM_CHAR, '{')"
   ]
  },
  {
   "cell_type": "code",
   "execution_count": 8,
   "metadata": {},
   "outputs": [
    {
     "name": "stdout",
     "output_type": "stream",
     "text": [
      "None\n"
     ]
    }
   ],
   "source": [
    "print(temp)"
   ]
  },
  {
   "cell_type": "markdown",
   "metadata": {},
   "source": [
    "Post a message to a window.\n",
    "\n",
    "Parameters\n",
    "\n",
    "hwnd : PyHANDLE\n",
    "\n",
    "    The hWnd of the window to receive the message.\n",
    "\n",
    "idMessage : int\n",
    "\n",
    "    The ID of the message to post.\n",
    "\n",
    "wParam=None : int\n",
    "\n",
    "    The wParam for the message\n",
    "\n",
    "lParam=None : int\n",
    "\n",
    "    The lParam for the message"
   ]
  }
 ],
 "metadata": {
  "kernelspec": {
   "display_name": "Python 3",
   "language": "python",
   "name": "python3"
  },
  "language_info": {
   "codemirror_mode": {
    "name": "ipython",
    "version": 3
   },
   "file_extension": ".py",
   "mimetype": "text/x-python",
   "name": "python",
   "nbconvert_exporter": "python",
   "pygments_lexer": "ipython3",
   "version": "3.8.3"
  }
 },
 "nbformat": 4,
 "nbformat_minor": 4
}
