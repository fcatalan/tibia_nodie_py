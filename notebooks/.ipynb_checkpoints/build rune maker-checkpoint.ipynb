{
 "cells": [
  {
   "cell_type": "code",
   "execution_count": 1,
   "metadata": {},
   "outputs": [],
   "source": [
    "# activates python modules auto reload\n",
    "%load_ext autoreload\n",
    "%autoreload 2\n",
    "\n",
    "import configparser\n",
    "\n",
    "import sys\n",
    "sys.path.append('..')\n",
    "\n",
    "from nodie.spells import Spell\n",
    "from nodie.items import Item, Equipment, Food\n",
    "from nodie.character import Character, Vocation\n",
    "from nodie.regeneration import Regeneration\n",
    "from nodie.macros import RuneSpellMacro, WasteSpellMacro, EquipmentMacro, FoodMacro, RuneMaker"
   ]
  },
  {
   "cell_type": "code",
   "execution_count": 2,
   "metadata": {},
   "outputs": [],
   "source": [
    "V = Vocation.fromjson('vocations.json')\n",
    "#for v in V: print(v)"
   ]
  },
  {
   "cell_type": "code",
   "execution_count": 3,
   "metadata": {},
   "outputs": [
    {
     "ename": "KeyError",
     "evalue": "'equipments'",
     "output_type": "error",
     "traceback": [
      "\u001b[1;31m---------------------------------------------------------------------------\u001b[0m",
      "\u001b[1;31mKeyError\u001b[0m                                  Traceback (most recent call last)",
      "\u001b[1;32m<ipython-input-3-6754307d7f4c>\u001b[0m in \u001b[0;36m<module>\u001b[1;34m\u001b[0m\n\u001b[1;32m----> 1\u001b[1;33m \u001b[0mE\u001b[0m \u001b[1;33m=\u001b[0m \u001b[0mEquipment\u001b[0m\u001b[1;33m.\u001b[0m\u001b[0mfromjson\u001b[0m\u001b[1;33m(\u001b[0m\u001b[1;34m'equipment.json'\u001b[0m\u001b[1;33m)\u001b[0m\u001b[1;33m\u001b[0m\u001b[1;33m\u001b[0m\u001b[0m\n\u001b[0m\u001b[0;32m      2\u001b[0m \u001b[1;31m#for e in E: print(e)\u001b[0m\u001b[1;33m\u001b[0m\u001b[1;33m\u001b[0m\u001b[1;33m\u001b[0m\u001b[0m\n",
      "\u001b[1;32m~\\OneDrive\\Área de Trabalho\\my_repositories\\tibia_no_die\\nodie\\resources.py\u001b[0m in \u001b[0;36mfromjson\u001b[1;34m(cls, file)\u001b[0m\n\u001b[0;32m     33\u001b[0m \u001b[1;33m\u001b[0m\u001b[0m\n\u001b[0;32m     34\u001b[0m         \u001b[0mlst\u001b[0m \u001b[1;33m=\u001b[0m \u001b[1;33m[\u001b[0m\u001b[1;33m]\u001b[0m\u001b[1;33m\u001b[0m\u001b[1;33m\u001b[0m\u001b[0m\n\u001b[1;32m---> 35\u001b[1;33m         \u001b[1;32mfor\u001b[0m \u001b[0mobj\u001b[0m \u001b[1;32min\u001b[0m \u001b[0mdic\u001b[0m\u001b[1;33m[\u001b[0m\u001b[0mcls\u001b[0m\u001b[1;33m.\u001b[0m\u001b[0m__name__\u001b[0m\u001b[1;33m.\u001b[0m\u001b[0mlower\u001b[0m\u001b[1;33m(\u001b[0m\u001b[1;33m)\u001b[0m \u001b[1;33m+\u001b[0m \u001b[1;34m's'\u001b[0m\u001b[1;33m]\u001b[0m\u001b[1;33m:\u001b[0m\u001b[1;33m\u001b[0m\u001b[1;33m\u001b[0m\u001b[0m\n\u001b[0m\u001b[0;32m     36\u001b[0m             \u001b[0mlst\u001b[0m\u001b[1;33m.\u001b[0m\u001b[0mappend\u001b[0m\u001b[1;33m(\u001b[0m\u001b[0mcls\u001b[0m\u001b[1;33m(\u001b[0m\u001b[1;33m**\u001b[0m\u001b[0mobj\u001b[0m\u001b[1;33m)\u001b[0m\u001b[1;33m)\u001b[0m\u001b[1;33m\u001b[0m\u001b[1;33m\u001b[0m\u001b[0m\n\u001b[0;32m     37\u001b[0m         \u001b[1;32mreturn\u001b[0m \u001b[0mlst\u001b[0m\u001b[1;33m\u001b[0m\u001b[1;33m\u001b[0m\u001b[0m\n",
      "\u001b[1;31mKeyError\u001b[0m: 'equipments'"
     ]
    }
   ],
   "source": [
    "E = Equipment.fromjson('equipment.json')\n",
    "#for e in E: print(e)"
   ]
  },
  {
   "cell_type": "code",
   "execution_count": null,
   "metadata": {},
   "outputs": [],
   "source": [
    "F = Food.fromjson('food.json')\n",
    "#for f in F: print(f)"
   ]
  },
  {
   "cell_type": "code",
   "execution_count": null,
   "metadata": {},
   "outputs": [],
   "source": [
    "foods = Food.fromjson('food.json')\n",
    "equipments = Equipment.fromjson('equipment.json')\n",
    "spells = Spell.fromjson('spells.json')\n",
    "vocations = Vocation.fromjson('vocations.json')\n",
    "for v in vocations: v.set_spells(spells)"
   ]
  },
  {
   "cell_type": "code",
   "execution_count": null,
   "metadata": {},
   "outputs": [],
   "source": [
    "cfg = configparser.ConfigParser()\n",
    "cfg.read('config.ini')\n",
    "\n",
    "\n",
    "character_name = cfg['Character']['name']\n",
    "vocation = cfg['Character']['vocation']\n",
    "\n",
    "vocation = [v for v in vocations if v.name == vocation][0]\n",
    "char = Character(character_name, vocation)\n",
    "\n",
    "\n",
    "ring = cfg['Rune Maker']['ring']\n",
    "boots = cfg['Rune Maker']['boots']\n",
    "food = cfg['Rune Maker']['food']\n",
    "rune_spell = cfg['Rune Maker']['rune_spell']\n",
    "waste_spell = cfg['Rune Maker']['waste_spell']\n",
    "\n",
    "ring_keys = cfg['Rune Maker']['ring_keys'].replace(' ', '').split(',')\n",
    "boots_keys = cfg['Rune Maker']['boots_keys'].replace(' ', '').split(',')\n",
    "food_keys = cfg['Rune Maker']['food_keys'].replace(' ', '').split(',')\n",
    "rune_spell_keys = cfg['Rune Maker']['rune_spell_keys'].replace(' ', '').split(',')\n",
    "waste_spell_keys = cfg['Rune Maker']['waste_spell_keys'].replace(' ', '').split(',')\n",
    "\n",
    "ring = [r for r in equipments if r.name == ring][0]\n",
    "boots = [b for b in equipments if b.name == boots][0]\n",
    "food = [f for f in foods if f.name == food][0]\n",
    "rune_spell = [r for r in spells if r.name == rune_spell][0]\n",
    "waste_spell = [w for w in spells if w.name == waste_spell][0]"
   ]
  },
  {
   "cell_type": "code",
   "execution_count": null,
   "metadata": {},
   "outputs": [],
   "source": [
    "print(ring.name)\n",
    "print(boots.name)\n",
    "print(food.name)\n",
    "print(rune_spell.name)\n",
    "print(waste_spell.name)"
   ]
  },
  {
   "cell_type": "code",
   "execution_count": null,
   "metadata": {},
   "outputs": [],
   "source": [
    "runemaker = RuneMaker(vocation, ring, boots, food, rune_spell, waste_spell)"
   ]
  },
  {
   "cell_type": "code",
   "execution_count": null,
   "metadata": {},
   "outputs": [],
   "source": [
    "runemaker.activate_macros()"
   ]
  },
  {
   "cell_type": "code",
   "execution_count": null,
   "metadata": {},
   "outputs": [],
   "source": []
  }
 ],
 "metadata": {
  "kernelspec": {
   "display_name": "Python 3",
   "language": "python",
   "name": "python3"
  },
  "language_info": {
   "codemirror_mode": {
    "name": "ipython",
    "version": 3
   },
   "file_extension": ".py",
   "mimetype": "text/x-python",
   "name": "python",
   "nbconvert_exporter": "python",
   "pygments_lexer": "ipython3",
   "version": "3.8.3"
  }
 },
 "nbformat": 4,
 "nbformat_minor": 4
}
