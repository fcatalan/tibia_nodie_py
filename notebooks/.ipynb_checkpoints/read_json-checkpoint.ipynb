{
 "cells": [
  {
   "cell_type": "code",
   "execution_count": 50,
   "metadata": {},
   "outputs": [
    {
     "name": "stdout",
     "output_type": "stream",
     "text": [
      "The autoreload extension is already loaded. To reload it, use:\n",
      "  %reload_ext autoreload\n"
     ]
    }
   ],
   "source": [
    "# activates python modules auto reload\n",
    "%load_ext autoreload\n",
    "%autoreload 2\n",
    "\n",
    "import json, secrets, collections, decimal\n",
    "\n",
    "import sys\n",
    "sys.path.append('..')\n",
    "\n",
    "from nodie.usables.spells import Spell\n",
    "from nodie.usables.items import Item, Equipment, Food\n",
    "from nodie.character import Character, Vocation"
   ]
  },
  {
   "cell_type": "code",
   "execution_count": 51,
   "metadata": {},
   "outputs": [
    {
     "name": "stdout",
     "output_type": "stream",
     "text": [
      "<class 'nodie.character.Vocation'>\n",
      "<class 'nodie.character.Vocation'>\n",
      "<class 'nodie.character.Vocation'>\n",
      "<class 'nodie.character.Vocation'>\n"
     ]
    }
   ],
   "source": [
    "V = Vocation.fromjson('../data/vocations/vocations.json')\n",
    "#for v in V.values(): print(type(v))"
   ]
  },
  {
   "cell_type": "code",
   "execution_count": 60,
   "metadata": {},
   "outputs": [
    {
     "name": "stdout",
     "output_type": "stream",
     "text": [
      "{'_keys': None, 'vocations': ['Elite Knight'], 'group': 'attack', 'id': '62', 'name': 'annihilation', 'words': 'exori gran ico', 'mana': 300, 'soul': 0, 'cd': 30, 'groupCd': 4}\n",
      "{'_keys': None, 'vocations': ['Elite Knight'], 'group': 'attack', 'id': '80', 'name': 'berserk', 'words': 'exori', 'mana': 115, 'soul': 0, 'cd': 4, 'groupCd': 2}\n",
      "{'_keys': None, 'vocations': ['Elite Knight'], 'group': 'attack', 'id': '61', 'name': 'brutal strike', 'words': 'exori ico', 'mana': 30, 'soul': 0, 'cd': 6, 'groupCd': 2}\n",
      "{'_keys': None, 'vocations': ['Master Sorcerer'], 'group': 'support', 'id': '-1', 'name': 'great fireball rune', 'words': 'adori mas flam', 'mana': 530, 'soul': 3, 'cd': 2, 'groupCd': 2}\n",
      "{'_keys': None, 'vocations': ['Royal Paladin'], 'group': 'support', 'id': '-1', 'name': 'holy missile rune', 'words': 'adori san', 'mana': 300, 'soul': 3, 'cd': 2, 'groupCd': 2}\n",
      "{'_keys': None, 'vocations': ['Elder Druid'], 'group': 'support', 'id': '-1', 'name': 'avalanche rune', 'words': 'adori mas frigo', 'mana': 530, 'soul': 3, 'cd': 2, 'groupCd': 2}\n",
      "{'_keys': None, 'vocations': ['Elder Druid'], 'group': 'support', 'id': '-1', 'name': 'stone shower rune', 'words': 'adori mas tera', 'mana': 430, 'soul': 3, 'cd': 2, 'groupCd': 2}\n",
      "{'_keys': None, 'vocations': ['Master Sorcerer'], 'group': 'support', 'id': '-1', 'name': 'sudden death rune', 'words': 'adori gran mort', 'mana': 985, 'soul': 5, 'cd': 2, 'groupCd': 2}\n",
      "{'_keys': None, 'vocations': ['Master Sorcerer'], 'group': 'support', 'id': '-1', 'name': 'thunderstorm rune', 'words': 'adori mas vis', 'mana': 430, 'soul': 3, 'cd': 2, 'groupCd': 2}\n",
      "{'_keys': None, 'vocations': ['Elder Druid'], 'group': 'support', 'id': '-1', 'name': 'ultimate healing rune', 'words': 'adura vita', 'mana': 400, 'soul': 3, 'cd': 2, 'groupCd': 2}\n",
      "{'_keys': None, 'vocations': ['Elder Druid'], 'group': 'support', 'id': '-1', 'name': 'wild growth rune', 'words': 'adevo grav vita', 'mana': 600, 'soul': 5, 'cd': 2, 'groupCd': 2}\n",
      "{'_keys': None, 'vocations': ['Master Sorcerer'], 'group': 'support', 'id': '-1', 'name': 'magic wall rune', 'words': 'adevo grav tera', 'mana': 750, 'soul': 5, 'cd': 2, 'groupCd': 2}\n",
      "{'_keys': None, 'vocations': ['Elder Druid'], 'group': 'support', 'id': '-1', 'name': 'paralyze rune', 'words': 'adana ani', 'mana': 1400, 'soul': 3, 'cd': 2, 'groupCd': 2}\n",
      "{'_keys': None, 'vocations': ['Elite Knight'], 'group': 'support', 'id': '131', 'name': 'charge', 'words': 'utani tempo hur', 'mana': 100, 'soul': 0, 'cd': 2, 'groupCd': 2}\n",
      "{'_keys': None, 'vocations': ['Master Sorcerer', 'Elder Druid', 'Royal Paladin', 'Elite Knight'], 'group': 'support', 'id': '6', 'name': 'haste', 'words': 'utani hur', 'mana': 60, 'soul': 0, 'cd': 2, 'groupCd': 2}\n",
      "{'_keys': None, 'vocations': ['Master Sorcerer', 'Elder Druid'], 'group': 'support', 'id': '39', 'name': 'strong haste', 'words': 'utani gran hur', 'mana': 100, 'soul': 0, 'cd': 2, 'groupCd': 2}\n",
      "{'_keys': None, 'vocations': ['Master Sorcerer'], 'group': 'healing', 'id': '3', 'name': 'ultimate healing', 'words': 'exura vita', 'mana': 160, 'soul': 0, 'cd': 1, 'groupCd': 1}\n",
      "{'_keys': None, 'vocations': ['Royal Paladin'], 'group': 'healing', 'id': '36', 'name': 'salvation', 'words': 'exura gran san', 'mana': 210, 'soul': 0, 'cd': 1, 'groupCd': 1}\n",
      "{'_keys': None, 'vocations': ['Elite Knight'], 'group': 'healing', 'id': '123', 'name': 'wound cleansing', 'words': 'exura ico', 'mana': 40, 'soul': 0, 'cd': 1, 'groupCd': 1}\n",
      "{'_keys': None, 'vocations': ['Elder Druid'], 'group': 'healing', 'id': '84', 'name': 'heal friend', 'words': 'exura sio', 'mana': 140, 'soul': 0, 'cd': 1, 'groupCd': 1}\n",
      "{'_keys': None, 'vocations': ['Master Sorcerer', 'Elder Druid', 'Royal Paladin'], 'group': 'healing', 'id': '2', 'name': 'intense healing', 'words': 'exura gran', 'mana': 70, 'soul': 0, 'cd': 1, 'groupCd': 1}\n",
      "{'_keys': None, 'vocations': ['Master Sorcerer', 'Elder Druid', 'Royal Paladin'], 'group': 'healing', 'id': '1', 'name': 'light healing', 'words': 'exura', 'mana': 20, 'soul': 0, 'cd': 1, 'groupCd': 1}\n"
     ]
    }
   ],
   "source": [
    "S = Spell.fromjson('../data/spells/spells.json')\n",
    "#for s in S.values(): print(s)"
   ]
  },
  {
   "cell_type": "code",
   "execution_count": 53,
   "metadata": {},
   "outputs": [],
   "source": [
    "it = iter(vars(x).items())"
   ]
  },
  {
   "cell_type": "code",
   "execution_count": 47,
   "metadata": {},
   "outputs": [
    {
     "name": "stdout",
     "output_type": "stream",
     "text": [
      "('_keys', None)\n",
      "('vocations', ['Elite Knight'])\n",
      "('group', 'attack')\n",
      "('id', '62')\n",
      "('name', 'annihilation')\n",
      "('words', 'exori gran ico')\n",
      "('mana', 300)\n",
      "('soul', 0)\n",
      "('cd', 30)\n",
      "('groupCd', 4)\n"
     ]
    }
   ],
   "source": [
    "for i in it: print(i)"
   ]
  },
  {
   "cell_type": "code",
   "execution_count": 59,
   "metadata": {},
   "outputs": [
    {
     "name": "stdout",
     "output_type": "stream",
     "text": [
      "{'_keys': None, 'vocations': ['Elite Knight'], 'group': 'attack', 'id': '62', 'name': 'annihilation', 'words': 'exori gran ico', 'mana': 300, 'soul': 0, 'cd': 30, 'groupCd': 4}\n"
     ]
    }
   ],
   "source": [
    "print(x)"
   ]
  },
  {
   "cell_type": "code",
   "execution_count": 57,
   "metadata": {},
   "outputs": [
    {
     "name": "stdout",
     "output_type": "stream",
     "text": [
      "{'_keys': None, 'vocations': ['Elite Knight'], 'group': 'attack', 'id': '62', 'name': 'annihilation', 'words': 'exori gran ico', 'mana': 300, 'soul': 0, 'cd': 30, 'groupCd': 4}\n"
     ]
    }
   ],
   "source": [
    "print(x)"
   ]
  },
  {
   "cell_type": "code",
   "execution_count": 36,
   "metadata": {},
   "outputs": [],
   "source": [
    "d = dict()\n",
    "for i in x:\n",
    "    d[i[0]] = i[1]#print(i)"
   ]
  },
  {
   "cell_type": "code",
   "execution_count": 33,
   "metadata": {},
   "outputs": [
    {
     "data": {
      "text/plain": [
       "{'_keys': None,\n",
       " 'vocations': ['Elite Knight'],\n",
       " 'group': 'attack',\n",
       " 'id': '62',\n",
       " 'name': 'annihilation',\n",
       " 'words': 'exori gran ico',\n",
       " 'mana': 300,\n",
       " 'soul': 0,\n",
       " 'cd': 30,\n",
       " 'groupCd': 4}"
      ]
     },
     "execution_count": 33,
     "metadata": {},
     "output_type": "execute_result"
    }
   ],
   "source": [
    "dict(vars(x).items())"
   ]
  },
  {
   "cell_type": "code",
   "execution_count": 29,
   "metadata": {},
   "outputs": [
    {
     "name": "stdout",
     "output_type": "stream",
     "text": [
      "{'_keys': None, 'vocations': ['Elite Knight'], 'group': 'attack', 'id': '62', 'name': 'annihilation', 'words': 'exori gran ico', 'mana': 300, 'soul': 0, 'cd': 30, 'groupCd': 4}\n"
     ]
    }
   ],
   "source": [
    "print(str(dict(d)))"
   ]
  },
  {
   "cell_type": "code",
   "execution_count": 14,
   "metadata": {},
   "outputs": [],
   "source": [
    "E = Equipment.fromjson('equipment.json')\n",
    "#for e in E: print(e)"
   ]
  },
  {
   "cell_type": "code",
   "execution_count": 17,
   "metadata": {},
   "outputs": [
    {
     "name": "stdout",
     "output_type": "stream",
     "text": [
      "{'id': '2789', 'name': 'brown mushroom', 'weight': 20, 'duration': 264}\n"
     ]
    }
   ],
   "source": [
    "F = Food.fromjson('food.json')\n",
    "for f in F: print(f)"
   ]
  }
 ],
 "metadata": {
  "kernelspec": {
   "display_name": "Python 3",
   "language": "python",
   "name": "python3"
  },
  "language_info": {
   "codemirror_mode": {
    "name": "ipython",
    "version": 3
   },
   "file_extension": ".py",
   "mimetype": "text/x-python",
   "name": "python",
   "nbconvert_exporter": "python",
   "pygments_lexer": "ipython3",
   "version": "3.8.3"
  }
 },
 "nbformat": 4,
 "nbformat_minor": 4
}
