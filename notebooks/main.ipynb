{
 "cells": [
  {
   "cell_type": "code",
   "execution_count": 1,
   "metadata": {},
   "outputs": [],
   "source": [
    "# activates python modules auto reload\n",
    "%load_ext autoreload\n",
    "%autoreload 2\n",
    "\n",
    "import configparser\n",
    "\n",
    "import sys\n",
    "sys.path.append('..')\n",
    "\n",
    "from nodie.spells import Spell\n",
    "from nodie.items import Item, Equipment, Food\n",
    "from nodie.character import Character, Vocation"
   ]
  },
  {
   "cell_type": "code",
   "execution_count": 2,
   "metadata": {},
   "outputs": [],
   "source": [
    "V = Vocation.fromjson('vocations.json')\n",
    "#for v in V: print(v)"
   ]
  },
  {
   "cell_type": "code",
   "execution_count": 3,
   "metadata": {},
   "outputs": [],
   "source": [
    "E = Equipment.fromjson('equipment.json')\n",
    "#for e in E: print(e)"
   ]
  },
  {
   "cell_type": "code",
   "execution_count": 4,
   "metadata": {},
   "outputs": [],
   "source": [
    "F = Food.fromjson('food.json')\n",
    "#for f in F: print(f)"
   ]
  },
  {
   "cell_type": "code",
   "execution_count": 5,
   "metadata": {},
   "outputs": [],
   "source": [
    "foods = Food.fromjson('food.json')\n",
    "equipments = Equipment.fromjson('equipment.json')\n",
    "spells = Spell.fromjson('spells.json')\n",
    "vocations = Vocation.fromjson('vocations.json')\n",
    "for v in vocations: v.set_spells(spells)"
   ]
  },
  {
   "cell_type": "code",
   "execution_count": 6,
   "metadata": {},
   "outputs": [],
   "source": [
    "cfg = configparser.ConfigParser()\n",
    "cfg.read('config.ini')\n",
    "\n",
    "character_name = cfg['Character']['name']\n",
    "vocation = cfg['Character']['vocation']"
   ]
  },
  {
   "cell_type": "code",
   "execution_count": 7,
   "metadata": {},
   "outputs": [],
   "source": [
    "vocation = [v for v in vocations if v.name == vocation][0]\n",
    "#"
   ]
  },
  {
   "cell_type": "code",
   "execution_count": 8,
   "metadata": {},
   "outputs": [
    {
     "name": "stdout",
     "output_type": "stream",
     "text": [
      "{'id': '3', 'name': 'Master Sorcerer', 'capLvUp': 10, 'hpLvUp': 5, 'mpLvUp': 30, 'regen': {'hpTicks': 12, 'hpGain': 1, 'mpTicks': 2, 'mpGain': 2}, 'spells': [<nodie.spells.Spell object at 0x000001F55C39C9A0>, <nodie.spells.Spell object at 0x000001F55C39CA90>, <nodie.spells.Spell object at 0x000001F55C39CAC0>, <nodie.spells.Spell object at 0x000001F55C39C1C0>, <nodie.spells.Spell object at 0x000001F55C39CC10>, <nodie.spells.Spell object at 0x000001F55C39CC40>, <nodie.spells.Spell object at 0x000001F55C39CC70>, <nodie.spells.Spell object at 0x000001F55C39CD30>, <nodie.spells.Spell object at 0x000001F55C39CDC0>]}\n"
     ]
    }
   ],
   "source": [
    "print(vocation)"
   ]
  },
  {
   "cell_type": "code",
   "execution_count": 9,
   "metadata": {},
   "outputs": [],
   "source": [
    "char = Character(character_name, vocation)"
   ]
  },
  {
   "cell_type": "code",
   "execution_count": 10,
   "metadata": {},
   "outputs": [
    {
     "name": "stdout",
     "output_type": "stream",
     "text": [
      "<nodie.character.Character object at 0x000001F55C388E80>\n"
     ]
    }
   ],
   "source": [
    "print(char)"
   ]
  },
  {
   "cell_type": "code",
   "execution_count": 11,
   "metadata": {},
   "outputs": [
    {
     "data": {
      "text/plain": [
       "['hotkeys.ini']"
      ]
     },
     "execution_count": 11,
     "metadata": {},
     "output_type": "execute_result"
    }
   ],
   "source": [
    "cfgKeys = configparser.ConfigParser()\n",
    "cfgKeys.read('hotkeys.ini')"
   ]
  },
  {
   "cell_type": "code",
   "execution_count": null,
   "metadata": {},
   "outputs": [],
   "source": []
  }
 ],
 "metadata": {
  "kernelspec": {
   "display_name": "Python 3",
   "language": "python",
   "name": "python3"
  },
  "language_info": {
   "codemirror_mode": {
    "name": "ipython",
    "version": 3
   },
   "file_extension": ".py",
   "mimetype": "text/x-python",
   "name": "python",
   "nbconvert_exporter": "python",
   "pygments_lexer": "ipython3",
   "version": "3.8.3"
  }
 },
 "nbformat": 4,
 "nbformat_minor": 4
}
