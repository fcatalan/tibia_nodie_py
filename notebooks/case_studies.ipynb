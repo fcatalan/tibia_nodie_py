{
 "cells": [
  {
   "cell_type": "markdown",
   "metadata": {},
   "source": [
    "### OOP\n",
    "\n",
    "Class Inheritance, special methods, static methods, decorators."
   ]
  },
  {
   "cell_type": "code",
   "execution_count": 26,
   "metadata": {},
   "outputs": [],
   "source": [
    "class Employee(object):\n",
    "    \n",
    "    raise_rate = 0.4\n",
    "    \n",
    "    def __init__(self, first_name, last_name, company_name, emp_age):\n",
    "        self._first = first_name\n",
    "        self._last = last_name\n",
    "        \n",
    "        self._company = company_name\n",
    "        # '_attr' naming convention to INDICATE that this 'attr' is for the object's \n",
    "        # internal use only and that it can be but should not really be directly accessed by the user\n",
    "        self.__age = emp_age\n",
    "        # '__attr' denotes this 'attr' as private, so that it cannot be directly accessed, without a proper method\n",
    "\n",
    "    @property\n",
    "    def first(self):\n",
    "        return self._first\n",
    "    \n",
    "    @first.setter\n",
    "    def first(self, first_name):\n",
    "        self._first = first_name\n",
    "    \n",
    "    @first.deleter\n",
    "    def first(self):\n",
    "        self._first = None\n",
    "        \n",
    "    @property\n",
    "    def last(self):\n",
    "        return self._last\n",
    "        \n",
    "    @last.setter\n",
    "    def last(self, last_name):\n",
    "        self._last = last_name\n",
    "        \n",
    "    @last.deleter\n",
    "    def last(self):\n",
    "        self._last = None\n",
    "        \n",
    "    @property\n",
    "    def fullname(self):\n",
    "        return '{} {}'.format(self._first, self._last)\n",
    "    # allows employee_obj.full_name to be accessed both as an attribute and as a method\n",
    "    \n",
    "    @fullname.setter\n",
    "    def fullname(self, name):\n",
    "        self._first, self._last = name.split(' ')\n",
    "    # allows employee_obj.full_name = x to be called to assign a new value to some attributes\n",
    "    \n",
    "    @fullname.deleter\n",
    "    def fullname(self):\n",
    "        del self.first\n",
    "        del self.last\n",
    "    # allow del employee_obj.full_name to be called to delete the first and last name\n",
    "        \n",
    "    @property\n",
    "    def age(self):\n",
    "        return self.__age\n",
    "    \n",
    "    @age.setter\n",
    "    def age(self, int_age):\n",
    "        self.__age = int_age\n",
    "        \n",
    "    @age.deleter\n",
    "    def age(self):\n",
    "        self.__age = None\n",
    "\n",
    "    def __repr__(self):\n",
    "        return 'Employee({}, {}, {}, {})'.format(self.first, self.last, self._company, self.age)\n",
    "\n",
    "    def __str__(self):\n",
    "        return '{} {}, company {}, age {}'.format(self.first, self.last, self._company, self.age)\n",
    "        \n",
    "    @classmethod\n",
    "    def from_strig(cls, string):\n",
    "        return cls(string.split(' '))\n",
    "    \n",
    "    def __del__(self):\n",
    "        # Del should not be redefined unless there is a specific need for it.\n",
    "        # In this tutorial case, the reason is to update the class emp_cnt attribute\n",
    "        del self.first\n",
    "        del self.last\n",
    "        del self\n",
    "        \n",
    "    @staticmethod\n",
    "    def some_method(x, y):\n",
    "        return x + y\n",
    "    # defines a method that does not take the instance nor the class as argument\n",
    "    \n",
    "    \n",
    "class Developer(Employee):\n",
    "    \n",
    "    def __init__(self, first_name, last_name, company_name, emp_age, prog_lang_name):\n",
    "        super().__init__(first_name, last_name, company_name, emp_age)\n",
    "        self._prog_lang = prog_lang_name\n",
    "        \n",
    "    @property\n",
    "    def prog_lang(self):\n",
    "        return self._prog_lang\n",
    "    \n",
    "    @prog_lang.setter\n",
    "    def prog_lang(self, prog_lang_name):\n",
    "        self._prog_lang = prog_lang_name\n",
    "        \n",
    "    @prog_lang.deleter\n",
    "    def prog_lang(self):\n",
    "        self._prog_lang = None\n",
    "        "
   ]
  },
  {
   "cell_type": "code",
   "execution_count": 27,
   "metadata": {},
   "outputs": [
    {
     "name": "stdout",
     "output_type": "stream",
     "text": [
      "Samuel\n",
      "Carvalho\n",
      "Padaria Estrela\n",
      "33\n",
      "Employee(Samuel, Carvalho, Padaria Estrela, 33)\n",
      "Samuel Carvalho, company Padaria Estrela, age 33\n",
      "8\n"
     ]
    }
   ],
   "source": [
    "emp = Employee('Juca', 'Carvalho', 'Padaria Estrela', 33)\n",
    "\n",
    "emp.first = 'Samuel'\n",
    "print(emp.first)\n",
    "print(emp.last)\n",
    "\n",
    "print(emp._company)\n",
    "print(emp.age)\n",
    "\n",
    "print(repr(emp))\n",
    "print(emp)\n",
    "\n",
    "print(Employee.some_method(2, 6))"
   ]
  },
  {
   "cell_type": "code",
   "execution_count": 32,
   "metadata": {},
   "outputs": [
    {
     "name": "stdout",
     "output_type": "stream",
     "text": [
      "Hulk\n",
      "Java Meh\n",
      "Python Cool\n"
     ]
    }
   ],
   "source": [
    "dev = Developer('Hulk', 'Green', 'Marvel Inc', 44, 'Java Meh')\n",
    "\n",
    "print(dev.first)\n",
    "print(dev.prog_lang)\n",
    "\n",
    "dev.prog_lang = 'Python Cool'\n",
    "print(dev.prog_lang)\n",
    "\n",
    "del dev"
   ]
  },
  {
   "cell_type": "code",
   "execution_count": 34,
   "metadata": {},
   "outputs": [
    {
     "name": "stdout",
     "output_type": "stream",
     "text": [
      "Samuel Carvalho, company Padaria Estrela, age 33\n"
     ]
    }
   ],
   "source": [
    "print(emp)"
   ]
  },
  {
   "cell_type": "code",
   "execution_count": 36,
   "metadata": {},
   "outputs": [
    {
     "name": "stdout",
     "output_type": "stream",
     "text": [
      "Help on Employee in module __main__ object:\n",
      "\n",
      "class Employee(builtins.object)\n",
      " |  Employee(first_name, last_name, company_name, emp_age)\n",
      " |  \n",
      " |  Methods defined here:\n",
      " |  \n",
      " |  __del__(self)\n",
      " |  \n",
      " |  __init__(self, first_name, last_name, company_name, emp_age)\n",
      " |      Initialize self.  See help(type(self)) for accurate signature.\n",
      " |  \n",
      " |  __repr__(self)\n",
      " |      Return repr(self).\n",
      " |  \n",
      " |  __str__(self)\n",
      " |      Return str(self).\n",
      " |  \n",
      " |  ----------------------------------------------------------------------\n",
      " |  Class methods defined here:\n",
      " |  \n",
      " |  from_strig(string) from builtins.type\n",
      " |  \n",
      " |  ----------------------------------------------------------------------\n",
      " |  Static methods defined here:\n",
      " |  \n",
      " |  some_method(x, y)\n",
      " |  \n",
      " |  ----------------------------------------------------------------------\n",
      " |  Data descriptors defined here:\n",
      " |  \n",
      " |  __dict__\n",
      " |      dictionary for instance variables (if defined)\n",
      " |  \n",
      " |  __weakref__\n",
      " |      list of weak references to the object (if defined)\n",
      " |  \n",
      " |  age\n",
      " |  \n",
      " |  first\n",
      " |  \n",
      " |  fullname\n",
      " |  \n",
      " |  last\n",
      " |  \n",
      " |  ----------------------------------------------------------------------\n",
      " |  Data and other attributes defined here:\n",
      " |  \n",
      " |  raise_rate = 0.4\n",
      "\n",
      "None\n"
     ]
    }
   ],
   "source": [
    "print(help(emp))"
   ]
  },
  {
   "cell_type": "markdown",
   "metadata": {},
   "source": [
    "### Mutables vs Immutables\n",
    "\n",
    "#### Mutables examples\n",
    "list, dict, set, user-defined classes\n",
    "\n",
    "#### Immutable examples\n",
    "int, float, string, tuple\n",
    "\n",
    "#### Default Arguments\n",
    "Python allows for the use of default arguments in functions. \n",
    "\n",
    "##### Do not use mutable objects as default arguments\n",
    "Default arguments are defined when the function is defined. So once default argument is defined as a mutable, that some mutable will be used as default in subsequent calls of that function.\n",
    "\n",
    "The solution is using a default argument to signal that no argument was provided (*None* is often the best choice)."
   ]
  },
  {
   "cell_type": "code",
   "execution_count": 172,
   "metadata": {},
   "outputs": [],
   "source": [
    "# Example solution: use None instead of an mutable object as default argument\n",
    "def append_to(element, to_list=None):\n",
    "    if to_list is None:\n",
    "        to_list = []\n",
    "    to_list.append(element)\n",
    "    return to_list"
   ]
  },
  {
   "cell_type": "markdown",
   "metadata": {},
   "source": [
    "### Pass by value vs Pass by Reference\n",
    "In Python, primitive types like int, string, Boolean are passed by value.\n",
    "\n",
    "Objects are passed by reference, so any changes made in the function reflect in the outside object.\n",
    "\n",
    "What if you want to pass an object by value? There is a 'solution', create a new copy of you object and use it as argumet"
   ]
  },
  {
   "cell_type": "code",
   "execution_count": 43,
   "metadata": {},
   "outputs": [
    {
     "name": "stdout",
     "output_type": "stream",
     "text": [
      "[2]\n",
      "[2]\n",
      "[2]\n",
      "False\n",
      "True\n",
      "False\n"
     ]
    }
   ],
   "source": [
    "import copy\n",
    "x = [2]\n",
    "y = copy.copy(x) # for now, I'm only sure that this works for objects, not primitive types\n",
    "z = x\n",
    "print(x)\n",
    "print(y)\n",
    "print(z)\n",
    "print(x is y)\n",
    "print(x is z)\n",
    "print(y is z)"
   ]
  },
  {
   "cell_type": "markdown",
   "metadata": {},
   "source": [
    "### Identity, Type, Value\n",
    "An object's identity never changes once it has been created, you may think of it as the objects's address in memory (as a pointer). "
   ]
  },
  {
   "cell_type": "code",
   "execution_count": 182,
   "metadata": {},
   "outputs": [
    {
     "name": "stdout",
     "output_type": "stream",
     "text": [
      "id(a): 1808457909384\n",
      "id(b): 1808457822856\n",
      "id(a) == id(b): False\n",
      "a is b (same as above): False\n",
      "a == b: True\n"
     ]
    }
   ],
   "source": [
    "a = [1] \n",
    "b = [1]\n",
    "print('id(a):', id(a)) # returns the identity of the object a\n",
    "print('id(b):', id(b)) \n",
    "\n",
    "print('id(a) == id(b):', id(a) == id(b)) # returns True if obj_1 and obj_2 are the same object. Objects may be equal in value but differ in id\n",
    "print('a is b (same as above):', a is b) # is equivalent to id(obj_1) == id(obj_2) \n",
    "print('a == b:', a == b) # compares a's and b's values"
   ]
  },
  {
   "cell_type": "markdown",
   "metadata": {},
   "source": [
    "### Some Data types handling\n",
    "#### Dictionarys\n",
    "Dictionarys are hash tables, tables who pair keys to values. A dict's key cannot be a mutable object.\n",
    "\n"
   ]
  },
  {
   "cell_type": "code",
   "execution_count": 161,
   "metadata": {},
   "outputs": [
    {
     "name": "stdout",
     "output_type": "stream",
     "text": [
      "brand: Ford | model: Mustang | year: 1964 | \n",
      "dict_keys(['brand', 'model', 'year'])\n",
      "\n",
      "dict_values(['Ford', 'Mustang', 1964])\n",
      "\n",
      "Ford Mustang 1964 "
     ]
    }
   ],
   "source": [
    "my_dict = {'brand': 'Ford', 'model': 'Mustang', 'year': 1964}\n",
    "\n",
    "# iterating over items to get key and value simultaneously\n",
    "for key, val in my_dict.items():\n",
    "    print(key, val, sep=': ', end=' | ')\n",
    "print()\n",
    "\n",
    "# sequence of keys\n",
    "print(my_dict.keys())\n",
    "print()\n",
    "# sequence of values\n",
    "print(my_dict.values())\n",
    "print()\n",
    "for v in my_dict.values():\n",
    "    print(v, end=' ')"
   ]
  },
  {
   "cell_type": "markdown",
   "metadata": {},
   "source": [
    "#### Tuples\n",
    "A tuple is 'array' of objects of any type that can be accessed trough indexing, like tup[i]. Tuples are immutable objects, thus its length and the value of its elements cannot be changed after the tuple has been initialized.\n",
    "\n",
    "Good for cases where you know all the elements that will be of interest for the software.\n",
    "\n",
    "#### Lists\n",
    "A list is a mutable array of objects of any type. You can add or remove items from lists. They do use more memory than tuples and are slightly slower.\n",
    "\n",
    "Good for cases where when the length of the array varies over time or when you need to handle insertion and deletion of data."
   ]
  },
  {
   "cell_type": "markdown",
   "metadata": {},
   "source": [
    "### List comprehension and Generator expressions\n",
    "List comprehensions make it possible to create a whole logical sequence (lists, sets, tuples, etc.), in a single statement.\n",
    "\n",
    "    [(expression(<item>)) (for item in iterable) <conditions>] # returns a list"
   ]
  },
  {
   "cell_type": "code",
   "execution_count": 123,
   "metadata": {},
   "outputs": [
    {
     "name": "stdout",
     "output_type": "stream",
     "text": [
      "<class 'list'> [0, 4, 16, 36, 64]\n",
      "<class 'set'> {0, 64, 4, 36, 16}\n"
     ]
    }
   ],
   "source": [
    "lst = [(x*x) for x in range(0, 10) if (x%2 == 0 and x < 9)]\n",
    "st = {(x*x) for x in range(0, 10) if (x%2 == 0 and x < 9)}\n",
    "\n",
    "print(type(lst), lst)\n",
    "print(type(st), st)"
   ]
  },
  {
   "cell_type": "markdown",
   "metadata": {},
   "source": [
    "Generators use the same code logic as list comprehensions to create a generator object. These are basically iterators, yielding one element at a time trough iteration. Unlike list comprehension, generators do not create a full sequence in memory and often perform with similar or faster speeds. \n",
    "\n",
    "    ((expression(<item>)) (for item in iterable) <conditions>) # returns a generator"
   ]
  },
  {
   "cell_type": "code",
   "execution_count": 133,
   "metadata": {},
   "outputs": [
    {
     "name": "stdout",
     "output_type": "stream",
     "text": [
      "<class 'generator'> <generator object <genexpr> at 0x000001A5107CF1C8>\n",
      "\n",
      "First use: 0 4 16 36 64 \n",
      "Second use: \n",
      "\n",
      "After recreating the generator, we can use it once more.\n",
      "max(gen) =  64\n",
      "Note that max(gen) also iterated trough the whole generator, so we cannot reuse it.\n"
     ]
    }
   ],
   "source": [
    "gen = ((x*x) for x in range(0, 10) if (x%2 == 0 and x < 9))\n",
    "\n",
    "print(type(gen), gen)\n",
    "print()\n",
    "\n",
    "print('First use:', end=' ')\n",
    "for i in gen: \n",
    "    print(i, end=' ')\n",
    "print()\n",
    "    \n",
    "print('Second use:', end=' ')\n",
    "for i in gen:\n",
    "    print(i, end=' ')\n",
    "print()\n",
    "print()\n",
    "gen = ((x*x) for x in range(0, 10) if (x%2 == 0 and x < 9))\n",
    "print('After recreating the generator, we can use it once more.')\n",
    "print('max(gen) = ', max(gen))\n",
    "print('Note that max(gen) also iterated trough the whole generator, so we cannot reuse it.')"
   ]
  },
  {
   "cell_type": "markdown",
   "metadata": {},
   "source": [
    "Functions like *sum()*, *min()* and *max()*, that reduce an iterable input to a single value are good examples of cases where a generator does the job.\n",
    "\n",
    "List comprehensions may still be useful when a sequence needs to be iterated trough more than once. Iterators discard the previous object every time its *it.next()* method is called, so generators cannot be restarted as, by definition, they do not have access to their starting point."
   ]
  },
  {
   "cell_type": "markdown",
   "metadata": {},
   "source": [
    "### Lambda Expressions\n",
    "A lambda function is a small anonymous function. It can take any number of arguments but can only have one expression.\n",
    "\n",
    "    *lambda arguments: expression"
   ]
  },
  {
   "cell_type": "code",
   "execution_count": 4,
   "metadata": {},
   "outputs": [
    {
     "data": {
      "text/plain": [
       "[0, 1, 4, 9, 16]"
      ]
     },
     "execution_count": 4,
     "metadata": {},
     "output_type": "execute_result"
    }
   ],
   "source": [
    "[(lambda x: x*x)(x) for x in range(5)]"
   ]
  },
  {
   "cell_type": "markdown",
   "metadata": {},
   "source": [
    "They are mostly used for:\n",
    "- creating functions used as arguments by another function\n",
    "- defining very specific functions that will only be used once or inside a specific scope"
   ]
  },
  {
   "cell_type": "markdown",
   "metadata": {},
   "source": [
    "Although they can often be overused. It should be noted that any function can be passed as argument to another function, it does not need to be a lambda function. If you find youself defining a variable f as a lambda function, you almost certainly should be defining a function called f that does the same thing instead."
   ]
  },
  {
   "cell_type": "code",
   "execution_count": 72,
   "metadata": {},
   "outputs": [
    {
     "name": "stdout",
     "output_type": "stream",
     "text": [
      "<function <lambda> at 0x000001A51077E798>\n",
      "3\n",
      "<function add at 0x000001A5106FF288>\n",
      "3\n"
     ]
    }
   ],
   "source": [
    "add = lambda x, y: x + y\n",
    "\n",
    "print(add)\n",
    "print(add(2, 1))\n",
    "\n",
    "# is a redundant, less readable and less portable, version of\n",
    "\n",
    "def add(x, y):\n",
    "    return x + y\n",
    "\n",
    "print(add)\n",
    "print(add(2, 1))"
   ]
  },
  {
   "cell_type": "code",
   "execution_count": 32,
   "metadata": {},
   "outputs": [
    {
     "name": "stdout",
     "output_type": "stream",
     "text": [
      "6\n"
     ]
    }
   ],
   "source": [
    "print((lambda x, y, z: x + y + z)(1, 2, 3))"
   ]
  },
  {
   "cell_type": "markdown",
   "metadata": {},
   "source": [
    "### Filter, Map, Reduce\n",
    "\n",
    "#### Filter\n",
    "Returns an iterator from those elements of iterable for which *function* returns true.\n",
    "\n",
    "    filter(function, iterable)"
   ]
  },
  {
   "cell_type": "code",
   "execution_count": 140,
   "metadata": {},
   "outputs": [
    {
     "name": "stdout",
     "output_type": "stream",
     "text": [
      "<class 'filter'> <filter object at 0x000001A510784788>\n",
      "1 3 "
     ]
    }
   ],
   "source": [
    "lst = list(range(5))\n",
    "\n",
    "my_fil = filter(lambda x: x%2 != 0, lst)\n",
    "\n",
    "print(type(my_fil), my_fil)\n",
    "\n",
    "for i in my_fil: print(i, end=' ')"
   ]
  },
  {
   "cell_type": "markdown",
   "metadata": {},
   "source": [
    "#### Map\n",
    "Returns an iterator that applies a function to every item of iterable, yielding the results.\n",
    "\n",
    "    map(function, iterable, ...)"
   ]
  },
  {
   "cell_type": "code",
   "execution_count": 40,
   "metadata": {},
   "outputs": [
    {
     "name": "stdout",
     "output_type": "stream",
     "text": [
      "0 1 4 9 16 "
     ]
    }
   ],
   "source": [
    "lst = list(range(5))\n",
    "\n",
    "my_map = map(lambda x: x*x, lst)\n",
    "\n",
    "for i in my_map: print(i, end=' ')"
   ]
  },
  {
   "cell_type": "code",
   "execution_count": 67,
   "metadata": {},
   "outputs": [
    {
     "name": "stdout",
     "output_type": "stream",
     "text": [
      "[0, 1, 2, 3, 4] [10, 12, 14, 16, 18]\n",
      "<map object at 0x000001A510799488>\n",
      "0 12 28 48 72 "
     ]
    }
   ],
   "source": [
    "lst1 = list(range(5))\n",
    "lst2 = list(range(10, 20, 2))\n",
    "\n",
    "print(lst1, lst2)\n",
    "\n",
    "my_map = map(lambda x, y: x*y, lst1, lst2)\n",
    "\n",
    "print(my_map)\n",
    "\n",
    "for i in my_map: \n",
    "    print(i, end=' ')"
   ]
  },
  {
   "cell_type": "markdown",
   "metadata": {},
   "source": [
    "*filter* and *map* are useful for cases in which the user only needs the iterable, always keeping in mind that iterables can only be used once. If a sequence is more approppriate, it is possible to use *list(map)*, but the better and more readable approach would be to just use list comprehensions for the same result."
   ]
  },
  {
   "cell_type": "markdown",
   "metadata": {},
   "source": [
    "#### Reduce\n",
    "Applies function of two arguments cumulatively to the items of iterable, from left to right, so as to reduce the iterable to a single value.\n",
    "\n",
    "    reduce(function, iterable[, initializer])"
   ]
  },
  {
   "cell_type": "code",
   "execution_count": 145,
   "metadata": {},
   "outputs": [
    {
     "name": "stdout",
     "output_type": "stream",
     "text": [
      "<class 'int'> 10\n",
      "<class 'int'> 24\n"
     ]
    }
   ],
   "source": [
    "from functools import reduce\n",
    "\n",
    "rng = range(5)\n",
    "\n",
    "# sum\n",
    "r = reduce(lambda x, y: x + y, rng)\n",
    "\n",
    "print(type(r), r)\n",
    "\n",
    "# 4 factorial\n",
    "r = reduce(lambda x, y: x*y, rng[1:])\n",
    "\n",
    "print(type(r), r)"
   ]
  },
  {
   "cell_type": "markdown",
   "metadata": {},
   "source": [
    "Unlike, *map* and *filter*, *reduce* returns an object, not an iterator."
   ]
  },
  {
   "cell_type": "markdown",
   "metadata": {},
   "source": [
    "#### Iterators\n",
    "An iterator is an object that contains a countable number of values. It has mostly two purposes:\n",
    "- a sequence iterator, works with an arbitrary sequence supporting the __getitem__() method\n"
   ]
  },
  {
   "cell_type": "code",
   "execution_count": 46,
   "metadata": {},
   "outputs": [
    {
     "name": "stdout",
     "output_type": "stream",
     "text": [
      "apple\n",
      "banana\n",
      "cherry\n"
     ]
    }
   ],
   "source": [
    "mytuple = (\"apple\", \"banana\", \"cherry\")\n",
    "myit = iter(mytuple)\n",
    "\n",
    "print(next(myit), end=' ')\n",
    "print(next(myit), end=' ')\n",
    "print(next(myit), end=' ')\n",
    "\n",
    "# if another next were to be called here, it would generate an error as the\n",
    "# iterator has been 'exhausted' or, in other words, consumed completely"
   ]
  },
  {
   "cell_type": "markdown",
   "metadata": {},
   "source": [
    "- callable object + sequence, an iterator over the sequence generated by <callable(x) for x in sequence>."
   ]
  },
  {
   "cell_type": "code",
   "execution_count": 48,
   "metadata": {},
   "outputs": [
    {
     "name": "stdout",
     "output_type": "stream",
     "text": [
      "0 4 8 12 16 "
     ]
    }
   ],
   "source": [
    "myit = map(lambda x: x*4, range(5))\n",
    "\n",
    "for i in range(5):\n",
    "    print(next(myit), end=' ')"
   ]
  },
  {
   "cell_type": "markdown",
   "metadata": {},
   "source": [
    "An iterator does not allocate the sequence that would come from iterating trough it. Instead it yields its objects as the next() method is called on it, which is done automatically in for loops like *for x in myit: do_something*.\n",
    "\n",
    "The length of an iterator is unknown until you iterate trought it, so executing *len(my_iterator)* would generate an error."
   ]
  }
 ],
 "metadata": {
  "kernelspec": {
   "display_name": "Python 3.7.4 64-bit ('base': conda)",
   "language": "python",
   "name": "python37464bitbasecondab5c588913579478797028758f0e44047"
  },
  "language_info": {
   "codemirror_mode": {
    "name": "ipython",
    "version": 3
   },
   "file_extension": ".py",
   "mimetype": "text/x-python",
   "name": "python",
   "nbconvert_exporter": "python",
   "pygments_lexer": "ipython3",
   "version": "3.7.4"
  }
 },
 "nbformat": 4,
 "nbformat_minor": 4
}
